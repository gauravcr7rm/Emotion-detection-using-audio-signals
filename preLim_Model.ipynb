{
  "nbformat": 4,
  "nbformat_minor": 0,
  "metadata": {
    "colab": {
      "name": "preLim Model",
      "provenance": [],
      "collapsed_sections": [],
      "mount_file_id": "16EZnLUh-5DmZLfPPNIOOjvATy2HOAL-S",
      "authorship_tag": "ABX9TyO29SjIPC4Yss/g0wMsvuaj",
      "include_colab_link": true
    },
    "kernelspec": {
      "name": "python3",
      "display_name": "Python 3"
    },
    "accelerator": "GPU"
  },
  "cells": [
    {
      "cell_type": "markdown",
      "metadata": {
        "id": "view-in-github",
        "colab_type": "text"
      },
      "source": [
        "<a href=\"https://colab.research.google.com/github/gauravcr7rm/Emotion-detection-using-audio-signals/blob/main/preLim_Model.ipynb\" target=\"_parent\"><img src=\"https://colab.research.google.com/assets/colab-badge.svg\" alt=\"Open In Colab\"/></a>"
      ]
    },
    {
      "cell_type": "code",
      "metadata": {
        "id": "3Oa5L7rm3f7A"
      },
      "source": [
        "import os\n",
        "import librosa\n",
        "import matplotlib.pyplot as plt"
      ],
      "execution_count": null,
      "outputs": []
    },
    {
      "cell_type": "code",
      "metadata": {
        "id": "0RnV8X1_MgJ5",
        "colab": {
          "base_uri": "https://localhost:8080/",
          "height": 454
        },
        "outputId": "80a9fe55-187f-439a-e916-f7579ce1c68a"
      },
      "source": [
        "!unzip '/content/samplewavfilestostartyourworkon.zip'"
      ],
      "execution_count": null,
      "outputs": [
        {
          "output_type": "stream",
          "text": [
            "Archive:  /content/samplewavfilestostartyourworkon.zip\n",
            "  inflating: dia26_utt10.wav         \n",
            "  inflating: dia6_utt6.wav           \n",
            "  inflating: dia73_utt2.wav          \n",
            "  inflating: dia73_utt0.wav          \n",
            "  inflating: dia104_utt11.wav        \n",
            "  inflating: dia82_utt9.wav          \n",
            "  inflating: dia110_utt4.wav         \n",
            "  inflating: dia72_utt13.wav         \n",
            "  inflating: dia28_utt5.wav          \n",
            "  inflating: dia50_utt3.wav          \n",
            "  inflating: dia32_utt2.wav          \n",
            "  inflating: dia104_utt12.wav        \n",
            "  inflating: dia54_utt6.wav          \n",
            "  inflating: dia31_utt2.wav          \n",
            "  inflating: dia63_utt15.wav         \n",
            "  inflating: dia1_utt8.wav           \n",
            "  inflating: dia56_utt7.wav          \n",
            "  inflating: dia4_utt4.wav           \n",
            "  inflating: dia105_utt1.wav         \n",
            "  inflating: dia1_utt6.wav           \n",
            "  inflating: dia51_utt6.wav          \n",
            "  inflating: dia88_utt0.wav          \n",
            "  inflating: dia66_utt0.wav          \n",
            "  inflating: dia22_utt7.wav          \n",
            "  inflating: dia76_utt14.wav         \n"
          ],
          "name": "stdout"
        }
      ]
    },
    {
      "cell_type": "code",
      "metadata": {
        "id": "CjABEIWe3zIe",
        "colab": {
          "base_uri": "https://localhost:8080/",
          "height": 84
        },
        "outputId": "2f48259d-ef9c-4f9a-d43b-44f828831ea5"
      },
      "source": [
        "data, sr = librosa.load('/content/dia104_utt11.wav')\n",
        "print(data)\n",
        "print(sr)\n",
        "print(data.shape)"
      ],
      "execution_count": null,
      "outputs": [
        {
          "output_type": "stream",
          "text": [
            "[-1.3630124e-06  1.7203926e-06 -2.0192617e-06 ...  3.4933729e-04\n",
            "  4.0128926e-04  1.3089775e-03]\n",
            "22050\n",
            "(25402,)\n"
          ],
          "name": "stdout"
        }
      ]
    },
    {
      "cell_type": "code",
      "metadata": {
        "id": "Am3KXzJo56H4"
      },
      "source": [
        "!pip install kapre"
      ],
      "execution_count": null,
      "outputs": []
    },
    {
      "cell_type": "code",
      "metadata": {
        "id": "_-TczaAa6PLQ",
        "colab": {
          "base_uri": "https://localhost:8080/",
          "height": 296
        },
        "outputId": "ac1ba06f-846d-480d-a2bf-beed9400aeb1"
      },
      "source": [
        "spec = librosa.feature.melspectrogram(y=data, sr=sr)\n",
        "import librosa.display\n",
        "librosa.display.specshow(spec,y_axis='mel', x_axis='s', sr=sr)\n",
        "plt.colorbar()"
      ],
      "execution_count": null,
      "outputs": [
        {
          "output_type": "execute_result",
          "data": {
            "text/plain": [
              "<matplotlib.colorbar.Colorbar at 0x7f046c53af28>"
            ]
          },
          "metadata": {
            "tags": []
          },
          "execution_count": 11
        },
        {
          "output_type": "display_data",
          "data": {
            "image/png": "[encoded data removed]",
            "text/plain": [
              "<Figure size 432x288 with 2 Axes>"
            ]
          },
          "metadata": {
            "tags": [],
            "needs_background": "light"
          }
        }
      ]
    },
    {
      "cell_type": "code",
      "metadata": {
        "id": "I9jcLy1J7V4D",
        "colab": {
          "base_uri": "https://localhost:8080/",
          "height": 283
        },
        "outputId": "7a75d8ae-8e68-4377-a423-95010029f0aa"
      },
      "source": [
        "import numpy as np\n",
        "db_spec = librosa.power_to_db(spec, ref=np.max,)\n",
        "librosa.display.specshow(db_spec,y_axis='mel', x_axis='s', sr=sr)\n",
        "plt.colorbar();"
      ],
      "execution_count": null,
      "outputs": [
        {
          "output_type": "display_data",
          "data": {
            "image/png": "[encoded data removed]",
            "text/plain": [
              "<Figure size 432x288 with 2 Axes>"
            ]
          },
          "metadata": {
            "tags": [],
            "needs_background": "light"
          }
        }
      ]
    },
    {
      "cell_type": "code",
      "metadata": {
        "id": "O2WsKYBr7z_m",
        "colab": {
          "base_uri": "https://localhost:8080/",
          "height": 279
        },
        "outputId": "c388a219-6492-4066-9709-ea303f547968"
      },
      "source": [
        "data_h, data_p = librosa.effects.hpss(data)\n",
        "spec_h = librosa.feature.melspectrogram(data_h, sr=sr)\n",
        "spec_p = librosa.feature.melspectrogram(data_p, sr=sr)\n",
        "db_spec_h = librosa.power_to_db(spec_h,ref=np.max)\n",
        "db_spec_p = librosa.power_to_db(spec_p,ref=np.max)\n",
        "librosa.display.specshow(db_spec_h,y_axis='mel', x_axis='s', sr=sr)\n",
        "plt.plot(spec_h);\n"
      ],
      "execution_count": null,
      "outputs": [
        {
          "output_type": "display_data",
          "data": {
            "image/png": "[encoded data removed]",
            "text/plain": [
              "<Figure size 432x288 with 1 Axes>"
            ]
          },
          "metadata": {
            "tags": [],
            "needs_background": "light"
          }
        }
      ]
    },
    {
      "cell_type": "code",
      "metadata": {
        "id": "I5jmct00_MAX",
        "colab": {
          "base_uri": "https://localhost:8080/",
          "height": 279
        },
        "outputId": "8472fd22-290e-412c-e203-96420dd37d70"
      },
      "source": [
        "librosa.display.specshow(db_spec_p,y_axis='mel', x_axis='s', sr=sr)\n",
        "plt.plot(spec_p);"
      ],
      "execution_count": null,
      "outputs": [
        {
          "output_type": "display_data",
          "data": {
            "image/png": "[encoded data removed]",
            "text/plain": [
              "<Figure size 432x288 with 1 Axes>"
            ]
          },
          "metadata": {
            "tags": [],
            "needs_background": "light"
          }
        }
      ]
    },
    {
      "cell_type": "code",
      "metadata": {
        "id": "h6LyAZMx-tZp",
        "colab": {
          "base_uri": "https://localhost:8080/",
          "height": 826
        },
        "outputId": "d275ccd4-c250-4e78-a2e5-f742f37c5a73"
      },
      "source": [
        "chroma = librosa.feature.chroma_cqt(y=data_h, sr=sr)\n",
        "plt.figure(figsize=(18,5))\n",
        "librosa.display.specshow(chroma, sr=sr, x_axis='time', y_axis='chroma', vmin=0, vmax=1)\n",
        "plt.title('Chromagram')\n",
        "plt.colorbar()\n",
        "plt.figure(figsize=(20,8))\n",
        "plt.title('Stairway To Heaven: Chroma Spectrogram')\n",
        "librosa.display.specshow(chroma, sr=sr, x_axis='s', y_axis='chroma', );"
      ],
      "execution_count": null,
      "outputs": [
        {
          "output_type": "display_data",
          "data": {
            "image/png": "[encoded data removed]",
            "text/plain": [
              "<Figure size 1296x360 with 2 Axes>"
            ]
          },
          "metadata": {
            "tags": [],
            "needs_background": "light"
          }
        },
        {
          "output_type": "display_data",
          "data": {
            "image/png": "[encoded data removed]",
            "text/plain": [
              "<Figure size 1440x576 with 1 Axes>"
            ]
          },
          "metadata": {
            "tags": [],
            "needs_background": "light"
          }
        }
      ]
    },
    {
      "cell_type": "code",
      "metadata": {
        "id": "TcevV4VVAbro"
      },
      "source": [
        "import os\n",
        "import wave\n",
        "\n",
        "import pylab\n",
        "def graph_spectrogram(wav_file):\n",
        "    sound_info, frame_rate = get_wav_info(wav_file)\n",
        "    pylab.figure(num=None, figsize=(19, 12))\n",
        "    pylab.subplot(111)\n",
        "    pylab.title('spectrogram of %r' % wav_file)\n",
        "    pylab.specgram(sound_info, Fs=frame_rate)\n",
        "    pylab.savefig(wav_file + '.png')\n",
        "def get_wav_info(wav_file):\n",
        "    wav = wave.open(wav_file, 'r')\n",
        "    frames = wav.readframes(-1)\n",
        "    sound_info = pylab.fromstring(frames, 'int16')\n",
        "    frame_rate = wav.getframerate()\n",
        "    wav.close()\n",
        "    return sound_info, frame_rate"
      ],
      "execution_count": null,
      "outputs": []
    },
    {
      "cell_type": "code",
      "metadata": {
        "id": "1rm-9EYZCmsW"
      },
      "source": [
        "graph_spectrogram('/content/dia104_utt11.wav')"
      ],
      "execution_count": null,
      "outputs": []
    },
    {
      "cell_type": "code",
      "metadata": {
        "id": "UN6RHlL-D5iF"
      },
      "source": [
        "local_download_path = '/content/'\n",
        "for filename in os.listdir(local_download_path):\n",
        "    if filename.endswith(\"wav\"): \n",
        "       graph_spectrogram(filename);"
      ],
      "execution_count": null,
      "outputs": []
    },
    {
      "cell_type": "code",
      "metadata": {
        "id": "GlrXbSGBRfBu",
        "colab": {
          "base_uri": "https://localhost:8080/",
          "height": 34
        },
        "outputId": "0e7c09c4-023b-482e-9948-6bd7615bc7d9"
      },
      "source": [
        "import cv2\n",
        "img = cv2.imread('/content/dia104_utt12.wav.png')\n",
        "#cv2.imshow('sample image',img)\n",
        "print(img.shape)"
      ],
      "execution_count": null,
      "outputs": [
        {
          "output_type": "stream",
          "text": [
            "(864, 1368, 3)\n"
          ],
          "name": "stdout"
        }
      ]
    },
    {
      "cell_type": "code",
      "metadata": {
        "id": "6uHb1djWSlEz",
        "colab": {
          "base_uri": "https://localhost:8080/",
          "height": 34
        },
        "outputId": "c4f4278b-503c-4f3a-8ee4-12bf41b41461"
      },
      "source": [
        "import numpy as np\n",
        "img.shape"
      ],
      "execution_count": null,
      "outputs": [
        {
          "output_type": "execute_result",
          "data": {
            "text/plain": [
              "(864, 1368, 3)"
            ]
          },
          "metadata": {
            "tags": []
          },
          "execution_count": 16
        }
      ]
    },
    {
      "cell_type": "code",
      "metadata": {
        "id": "bMQ_d-64cIbI",
        "colab": {
          "base_uri": "https://localhost:8080/",
          "height": 34
        },
        "outputId": "3de8bcc4-6cf9-481e-ae4c-d3da7f0555db"
      },
      "source": [
        "from keras.preprocessing.image import load_img\n",
        "from keras.preprocessing.image import img_to_array\n",
        "from keras.applications.vgg16 import preprocess_input\n",
        "from keras.applications.vgg16 import decode_predictions\n",
        "from keras.applications.vgg16 import VGG16\n",
        "from keras.models import Model\n",
        "from pickle import dump"
      ],
      "execution_count": null,
      "outputs": [
        {
          "output_type": "stream",
          "text": [
            "Using TensorFlow backend.\n"
          ],
          "name": "stderr"
        }
      ]
    },
    {
      "cell_type": "code",
      "metadata": {
        "id": "OnalFsWWINWm"
      },
      "source": [
        "from keras.preprocessing.image import load_img\n",
        "from keras.preprocessing.image import img_to_array\n",
        "from keras.applications.resnet50 import preprocess_input\n",
        "from keras.applications.vgg16 import decode_predictions\n",
        "from keras.applications.resnet50 import ResNet50\n",
        "from keras.models import Model\n",
        "from pickle import dump\n",
        "# load an image from file\n",
        "image = load_img('/content/drive/My Drive/spectroimage_folder/image folder/dia0_utt0.wav.png', target_size=(224, 224))\n",
        "# convert the image pixels to a numpy array\n",
        "image = img_to_array(image)\n",
        "# reshape data for the model\n",
        "image = image.reshape((1, image.shape[0], image.shape[1], image.shape[2]))\n",
        "# prepare the image for the VGG model\n",
        "image = preprocess_input(image)\n",
        "# load model\n",
        "model = ResNet50(weights = \"imagenet\")\n",
        "# remove the output layer\n",
        "model.layers.pop()\n",
        "#model.layers.pop()\n",
        "model = Model(inputs=model.inputs, outputs=model.layers[-1].output)\n",
        "model.summary()\n",
        "#get extracted features\n",
        "features = model.predict(image)\n",
        "print(features.shape)\n",
        "# save to file\n",
        "#dump(features, open('dog.pkl', 'wb'))"
      ],
      "execution_count": null,
      "outputs": []
    },
    {
      "cell_type": "code",
      "metadata": {
        "id": "1RZ8ikbjcY1H"
      },
      "source": [
        "image = load_img('/content/dia104_utt11.wav.png', target_size=(224,224,3))\n",
        "image = img_to_array(image)\n",
        "image = image.reshape((1, image.shape[0], image.shape[1], image.shape[2]))\n",
        "image = preprocess_input(image)\n",
        "model = VGG16()\n",
        "\"\"\"model.layers.pop()\n",
        "model.layers.pop()\n",
        "model.layers.pop()\n",
        "model.layers.pop()\n",
        "#model.layers.pop()\"\"\"\n",
        "model = Model(inputs=model.inputs, outputs=model.layers[-1].output)\n",
        "model.summary()\n",
        "\"\"\"features = model.predict(image)\n",
        "print(features.shape)\n",
        "#dump(features, open('dog.pkl', 'wb'))\"\"\""
      ],
      "execution_count": null,
      "outputs": []
    },
    {
      "cell_type": "code",
      "metadata": {
        "id": "AmvuZVh1X633"
      },
      "source": [
        "from tensorflow.keras.layers import Layer\n",
        "import tensorflow.keras.backend as K\n",
        "class attention(Layer):\n",
        "    def __init__(self,**kwargs):\n",
        "        super(attention,self).__init__(**kwargs)\n",
        "\n",
        "    def build(self,input_shape):\n",
        "        self.W=self.add_weight(name=\"att_weight\",shape=(input_shape[-1],1),initializer=\"normal\")\n",
        "        self.b=self.add_weight(name=\"att_bias\",shape=(input_shape[1],1),initializer=\"zeros\")        \n",
        "        super(attention, self).build(input_shape)\n",
        "\n",
        "    def call(self,x):\n",
        "        et=K.squeeze(K.tanh(K.dot(x,self.W)+self.b),axis=-1)\n",
        "        at=K.softmax(et)\n",
        "        at=K.expand_dims(at,axis=-1)\n",
        "        output=x*at\n",
        "        return K.sum(output,axis=1)\n",
        "\n",
        "    def compute_output_shape(self,input_shape):\n",
        "        return (input_shape[0],input_shape[-1])\n",
        "\n",
        "    def get_config(self):\n",
        "        return super(attention,self).get_config()"
      ],
      "execution_count": null,
      "outputs": []
    },
    {
      "cell_type": "code",
      "metadata": {
        "id": "SEgqikw_dgnS"
      },
      "source": [
        "from tensorflow.keras.applications.vgg16 import VGG16\n",
        "from tensorflow.keras.models import Model\n",
        "from tensorflow.keras.layers import Dense\n",
        "from tensorflow.keras.layers import Flatten\n",
        "import numpy as np\n",
        "\n",
        "model = VGG16(include_top=False, input_shape=(300, 300, 3))\n",
        "flat1 = Flatten()(model.outputs)\n",
        "class1 = Dense(1024, activation='relu')(model.outputs)\n",
        "output = Dense(10, activation='softmax')(class1)\n",
        "# define new model\n",
        "model = Model(inputs=model.inputs, outputs=output)\n",
        "\n",
        "\"\"\"model = VGG16(include_top=False, input_shape=(300, 300, 3))\n",
        "flat1 = Flatten()(model.outputs)\n",
        "att_in = attention()(flat1)\n",
        "model.summary( )\n",
        "class1 = Dense(1024, activation='relu')(att_in)\n",
        "output = Dense(10, activation='softmax')(class1)\n",
        "model = Model(inputs=model.inputs, outputs=output)\n",
        "# summarize\n",
        "model.summary()\"\"\"\n"
      ],
      "execution_count": null,
      "outputs": []
    },
    {
      "cell_type": "code",
      "metadata": {
        "id": "gkqJo0uddnfI"
      },
      "source": [
        "for layer in model.layers[:20]:\n",
        "    layer.trainable=False\n",
        "for layer in model.layers[20:]:\n",
        "    layer.trainable=True"
      ],
      "execution_count": null,
      "outputs": []
    },
    {
      "cell_type": "code",
      "metadata": {
        "id": "q0AYeawaE5SG",
        "colab": {
          "base_uri": "https://localhost:8080/",
          "height": 34
        },
        "outputId": "40fe7bff-aed5-438f-af22-3c368c1302c8"
      },
      "source": [
        "from google.colab import drive\n",
        "drive.mount('/content/gdrive')"
      ],
      "execution_count": null,
      "outputs": [
        {
          "output_type": "stream",
          "text": [
            "Drive already mounted at /content/gdrive; to attempt to forcibly remount, call drive.mount(\"/content/gdrive\", force_remount=True).\n"
          ],
          "name": "stdout"
        }
      ]
    },
    {
      "cell_type": "code",
      "metadata": {
        "id": "U-dxFOwQHKdY"
      },
      "source": [
        "!unzip -q '/content/drive/My Drive/test_audio_wav.zip' -d '/content/sample_data'"
      ],
      "execution_count": null,
      "outputs": []
    },
    {
      "cell_type": "code",
      "metadata": {
        "id": "amFPltpEMkba"
      },
      "source": [
        "import os\n",
        "import wave\n",
        "\n",
        "import pylab\n",
        "def graph_spectrogram(wav_file):\n",
        "    sound_info, frame_rate = get_wav_info(wav_file)\n",
        "    pylab.figure(num=None, figsize=(19, 12))\n",
        "    pylab.subplot(111)\n",
        "    pylab.title('spectrogram of %r' % wav_file)\n",
        "    pylab.specgram(sound_info, Fs=frame_rate)\n",
        "    pylab.savefig(wav_file + '.png')\n",
        "def get_wav_info(wav_file):\n",
        "    wav = wave.open(wav_file, 'r')\n",
        "    frames = wav.readframes(-1)\n",
        "    sound_info = pylab.fromstring(frames, 'int16')\n",
        "    frame_rate = wav.getframerate()\n",
        "    wav.close()\n",
        "    return sound_info, frame_rate"
      ],
      "execution_count": null,
      "outputs": []
    },
    {
      "cell_type": "code",
      "metadata": {
        "id": "BAyzrdqYNg72",
        "colab": {
          "base_uri": "https://localhost:8080/",
          "height": 34
        },
        "outputId": "70543d29-bcc7-4d17-9052-bdf9e828c991"
      },
      "source": [
        "!cd '/content/sample_data/spectrogram images'\n",
        "import os"
      ],
      "execution_count": null,
      "outputs": [
        {
          "output_type": "stream",
          "text": [
            "/bin/bash: line 0: cd: /content/sample_data/spectrogram images: No such file or directory\n"
          ],
          "name": "stdout"
        }
      ]
    },
    {
      "cell_type": "code",
      "metadata": {
        "id": "wU0mnxNb14sE"
      },
      "source": [
        "import os.path\n",
        "from os import path\n",
        "a = 0\n",
        "b = 0\n",
        "local_download_path = '/content/sample_data/test_audio_wav/'\n",
        "for filename in os.listdir(local_download_path):\n",
        "    if filename.endswith(\"wav\"):\n",
        "      a = a+1\n",
        "      if path.exists('/content/sample_data/test_audio_wav/' +filename + '.png') == False:\n",
        "         b = b+1#graph_spectrogram('/content/sample_data/test_audio_wav/'+filename);#b = b+1\n",
        "print(a)\n",
        "print(b)"
      ],
      "execution_count": null,
      "outputs": []
    },
    {
      "cell_type": "code",
      "metadata": {
        "id": "rsB-qGvasHd4"
      },
      "source": [
        "import shutil\n",
        "for filename in os.listdir(local_download_path):\n",
        "    if filename.endswith(\"png\"):\n",
        "      shutil.move(local_download_path + filename, '/content/sample_data/image folder/')\n"
      ],
      "execution_count": null,
      "outputs": []
    },
    {
      "cell_type": "code",
      "metadata": {
        "id": "eE69u1GF5IyD",
        "colab": {
          "base_uri": "https://localhost:8080/",
          "height": 34
        },
        "outputId": "2a068450-b309-4a1b-a033-95676276271f"
      },
      "source": [
        "shutil.move('/content/test_sent_emo.csv', '/content/drive/My Drive/spectroimage_folder')"
      ],
      "execution_count": null,
      "outputs": [
        {
          "output_type": "execute_result",
          "data": {
            "text/plain": [
              "'/content/drive/My Drive/spectroimage_folder/test_sent_emo.csv'"
            ]
          },
          "metadata": {
            "tags": []
          },
          "execution_count": 13
        }
      ]
    },
    {
      "cell_type": "code",
      "metadata": {
        "id": "ORkyrKVb6M-V",
        "colab": {
          "base_uri": "https://localhost:8080/",
          "height": 34
        },
        "outputId": "6a29ffcb-3e89-4d09-c2fb-f7d4e5d12588"
      },
      "source": [
        "local_download_path = '/content/drive/My Drive/spectroimage_folder/image folder'\n",
        "cnt = 0\n",
        "for filename in os.listdir(local_download_path):\n",
        "    if filename.endswith(\"png\"):\n",
        "      cnt = cnt+1\n",
        "print(cnt)"
      ],
      "execution_count": null,
      "outputs": [
        {
          "output_type": "stream",
          "text": [
            "2747\n"
          ],
          "name": "stdout"
        }
      ]
    },
    {
      "cell_type": "code",
      "metadata": {
        "id": "COTqnJmd-gv9"
      },
      "source": [
        "import pandas as pd\n",
        "df = pd.read_csv('/content/drive/My Drive/spectroimage_folder/test_sent_emo.csv')"
      ],
      "execution_count": null,
      "outputs": []
    },
    {
      "cell_type": "code",
      "metadata": {
        "id": "9SyWA0GH-rDK",
        "colab": {
          "base_uri": "https://localhost:8080/",
          "height": 246
        },
        "outputId": "e1a20f17-639a-4085-9b28-cb2eefc7ea74"
      },
      "source": [
        "train.head()"
      ],
      "execution_count": null,
      "outputs": [
        {
          "output_type": "execute_result",
          "data": {
            "text/html": [
              "<div>\n",
              "<style scoped>\n",
              "    .dataframe tbody tr th:only-of-type {\n",
              "        vertical-align: middle;\n",
              "    }\n",
              "\n",
              "    .dataframe tbody tr th {\n",
              "        vertical-align: top;\n",
              "    }\n",
              "\n",
              "    .dataframe thead th {\n",
              "        text-align: right;\n",
              "    }\n",
              "</style>\n",
              "<table border=\"1\" class=\"dataframe\">\n",
              "  <thead>\n",
              "    <tr style=\"text-align: right;\">\n",
              "      <th></th>\n",
              "      <th>Sr No.</th>\n",
              "      <th>Utterance</th>\n",
              "      <th>Speaker</th>\n",
              "      <th>Emotion</th>\n",
              "      <th>Sentiment</th>\n",
              "      <th>Dialogue_ID</th>\n",
              "      <th>Utterance_ID</th>\n",
              "      <th>Season</th>\n",
              "      <th>Episode</th>\n",
              "      <th>StartTime</th>\n",
              "      <th>EndTime</th>\n",
              "    </tr>\n",
              "  </thead>\n",
              "  <tbody>\n",
              "    <tr>\n",
              "      <th>0</th>\n",
              "      <td>1</td>\n",
              "      <td>Why do all youre coffee mugs have numbers on ...</td>\n",
              "      <td>Mark</td>\n",
              "      <td>surprise</td>\n",
              "      <td>positive</td>\n",
              "      <td>0</td>\n",
              "      <td>0</td>\n",
              "      <td>3</td>\n",
              "      <td>19</td>\n",
              "      <td>00:14:38,127</td>\n",
              "      <td>00:14:40,378</td>\n",
              "    </tr>\n",
              "    <tr>\n",
              "      <th>1</th>\n",
              "      <td>2</td>\n",
              "      <td>Oh. Thats so Monica can keep track. That way ...</td>\n",
              "      <td>Rachel</td>\n",
              "      <td>anger</td>\n",
              "      <td>negative</td>\n",
              "      <td>0</td>\n",
              "      <td>1</td>\n",
              "      <td>3</td>\n",
              "      <td>19</td>\n",
              "      <td>00:14:40,629</td>\n",
              "      <td>00:14:47,385</td>\n",
              "    </tr>\n",
              "    <tr>\n",
              "      <th>2</th>\n",
              "      <td>3</td>\n",
              "      <td>Y'know what?</td>\n",
              "      <td>Rachel</td>\n",
              "      <td>neutral</td>\n",
              "      <td>neutral</td>\n",
              "      <td>0</td>\n",
              "      <td>2</td>\n",
              "      <td>3</td>\n",
              "      <td>19</td>\n",
              "      <td>00:14:56,353</td>\n",
              "      <td>00:14:57,520</td>\n",
              "    </tr>\n",
              "    <tr>\n",
              "      <th>3</th>\n",
              "      <td>19</td>\n",
              "      <td>Come on, Lydia, you can do it.</td>\n",
              "      <td>Joey</td>\n",
              "      <td>neutral</td>\n",
              "      <td>neutral</td>\n",
              "      <td>1</td>\n",
              "      <td>0</td>\n",
              "      <td>1</td>\n",
              "      <td>23</td>\n",
              "      <td>0:10:44,769</td>\n",
              "      <td>0:10:46,146</td>\n",
              "    </tr>\n",
              "    <tr>\n",
              "      <th>4</th>\n",
              "      <td>20</td>\n",
              "      <td>Push!</td>\n",
              "      <td>Joey</td>\n",
              "      <td>joy</td>\n",
              "      <td>positive</td>\n",
              "      <td>1</td>\n",
              "      <td>1</td>\n",
              "      <td>1</td>\n",
              "      <td>23</td>\n",
              "      <td>0:10:46,146</td>\n",
              "      <td>0:10:46,833</td>\n",
              "    </tr>\n",
              "  </tbody>\n",
              "</table>\n",
              "</div>"
            ],
            "text/plain": [
              "   Sr No.  ...       EndTime\n",
              "0       1  ...  00:14:40,378\n",
              "1       2  ...  00:14:47,385\n",
              "2       3  ...  00:14:57,520\n",
              "3      19  ...   0:10:46,146\n",
              "4      20  ...   0:10:46,833\n",
              "\n",
              "[5 rows x 11 columns]"
            ]
          },
          "metadata": {
            "tags": []
          },
          "execution_count": 5
        }
      ]
    },
    {
      "cell_type": "code",
      "metadata": {
        "id": "y9Iju5Br-3yr"
      },
      "source": [
        "df[\"join_dia_utter\"] = df[\"Dialogue_ID\"].map(str) + df[\"Utterance_ID\"].map(str)"
      ],
      "execution_count": null,
      "outputs": []
    },
    {
      "cell_type": "code",
      "metadata": {
        "id": "88ifKqpD4302",
        "colab": {
          "base_uri": "https://localhost:8080/",
          "height": 34
        },
        "outputId": "55b4787a-6cf9-487a-836a-8e9cf81fe27a"
      },
      "source": [
        "l = df[(df.Dialogue_ID == 93) & (df.Utterance_ID == 9)][['Emotion']]\n",
        "s=l.values[0][0]\n",
        "print(s)\n",
        "\n"
      ],
      "execution_count": null,
      "outputs": [
        {
          "output_type": "stream",
          "text": [
            "neutral\n"
          ],
          "name": "stdout"
        }
      ]
    },
    {
      "cell_type": "code",
      "metadata": {
        "id": "uncYlGOx4-K6",
        "colab": {
          "base_uri": "https://localhost:8080/",
          "height": 34
        },
        "outputId": "68f1b577-270a-4e58-dfe7-da48a35fbeb5"
      },
      "source": [
        "import os\n",
        "len(sorted(os.listdir('/content/drive/My Drive/spectroimage_folder/image folder')))"
      ],
      "execution_count": null,
      "outputs": [
        {
          "output_type": "execute_result",
          "data": {
            "text/plain": [
              "2747"
            ]
          },
          "metadata": {
            "tags": []
          },
          "execution_count": 11
        }
      ]
    },
    {
      "cell_type": "code",
      "metadata": {
        "id": "48noHT8p5bB2"
      },
      "source": [
        "sorted(os.listdir('/content/drive/My Drive/spectroimage_folder/image folder'))"
      ],
      "execution_count": null,
      "outputs": []
    },
    {
      "cell_type": "code",
      "metadata": {
        "id": "CQFLvujO--3p"
      },
      "source": [
        "def listToString(s):  \n",
        "    str1 = \"\"   \n",
        "    for ele in s:  \n",
        "        str1 += ele   \n",
        "    return str1 "
      ],
      "execution_count": null,
      "outputs": []
    },
    {
      "cell_type": "code",
      "metadata": {
        "id": "VRykEGJbBPeH"
      },
      "source": [
        "list_audios = []\n",
        "import os\n",
        "for audio in sorted(os.listdir('/content/drive/My Drive/spectroimage_folder/image folder')):\n",
        "    list_audios.append(audio.split('.')[0])\n",
        "list_audios"
      ],
      "execution_count": null,
      "outputs": []
    },
    {
      "cell_type": "code",
      "metadata": {
        "id": "wO6pQYgv6xq0"
      },
      "source": [
        "path_face = '/content/drive/My Drive/spectroimage_folder/image folder'\n",
        "import shutil\n",
        "for frame in sorted(os.listdir(path_face)):\n",
        "  print(frame)\n",
        "  if frame != \".ipynb_checkpoints\":\n",
        "   l = frame.split('.')\n",
        "   #print(l)\n",
        "   f = listToString(l[0])\n",
        "   #print(frame)\n",
        "   dia_no = int(f.split('dia')[1].split('_utt')[0])\n",
        "   #print(dia_no)\n",
        "   utt_no = int(f.split('dia')[1].split('_utt')[1].split('_')[0])\n",
        "   #print(utt_no)\n",
        "   if dia_no is not 0:\n",
        "     print(dia_no)\n",
        "     emotion = df[(df.Dialogue_ID == dia_no) & (df.Utterance_ID == utt_no)][['Emotion']].values[0][0]\n",
        "     emotion = emotion.capitalize()\n",
        "   #print(emotion)\n",
        "   #sentiment = df[(df.Dialogue_ID == dia_no) & (df.Utterance_ID == utt_no)][['Sentiment']].values[0][0]\n",
        "     if emotion == 'Anger':\n",
        "       emotion = 'Untitled Folder'\n",
        "     shutil.copy(path_face + '/' + frame, '/content/drive/My Drive/spectroimage_folder/' + emotion)\n",
        "                   # shutil.copyfile(path_face + '/' + frame, path_to_save_sentiment_face + '/' + sentiment + '/' + frame)\"\"\""
      ],
      "execution_count": null,
      "outputs": []
    },
    {
      "cell_type": "code",
      "metadata": {
        "id": "j4PhAWmdD8ly"
      },
      "source": [
        "for filename in os.listdir('/content/drive/My Drive/spectroimage_folder/Neutral'):\n",
        "  os.remove('/content/drive/My Drive/spectroimage_folder/Neutral/' + filename)"
      ],
      "execution_count": null,
      "outputs": []
    },
    {
      "cell_type": "code",
      "metadata": {
        "id": "c_wTT6zUNxC6",
        "colab": {
          "base_uri": "https://localhost:8080/",
          "height": 34
        },
        "outputId": "0a3e2c3f-597d-4450-f35e-b04e95f60ce0"
      },
      "source": [
        "len(os.listdir('/content/drive/My Drive/spectroimage_folder/Fear')) + len(os.listdir('/content/drive/My Drive/spectroimage_folder/Sadness')) +len(os.listdir('/content/drive/My Drive/spectroimage_folder/Joy')) +len(os.listdir('/content/drive/My Drive/spectroimage_folder/Disgust'))+len(os.listdir('/content/drive/My Drive/spectroimage_folder/Neutral'))+len(os.listdir('/content/drive/My Drive/spectroimage_folder/Untitled Folder'))+len(os.listdir('/content/drive/My Drive/spectroimage_folder/Surprise'))"
      ],
      "execution_count": null,
      "outputs": [
        {
          "output_type": "execute_result",
          "data": {
            "text/plain": [
              "2740"
            ]
          },
          "metadata": {
            "tags": []
          },
          "execution_count": 186
        }
      ]
    },
    {
      "cell_type": "code",
      "metadata": {
        "id": "RzadCsl1-_e9",
        "colab": {
          "base_uri": "https://localhost:8080/",
          "height": 34
        },
        "outputId": "0722e1f1-15ac-42b0-a6e2-f4f56657dcae"
      },
      "source": [
        "from keras.preprocessing.image import load_img\n",
        "from keras.preprocessing.image import img_to_array\n",
        "from keras.applications.resnet50 import preprocess_input\n",
        "from keras.applications.vgg16 import decode_predictions\n",
        "from keras.applications.resnet50 import ResNet50\n",
        "from keras.models import Model\n",
        "from pickle import dump"
      ],
      "execution_count": null,
      "outputs": [
        {
          "output_type": "stream",
          "text": [
            "Using TensorFlow backend.\n"
          ],
          "name": "stderr"
        }
      ]
    },
    {
      "cell_type": "code",
      "metadata": {
        "id": "QRwMLg0LiCIR"
      },
      "source": [
        "!cd '/content/drive/My Drive/spectroimage_folder'"
      ],
      "execution_count": null,
      "outputs": []
    },
    {
      "cell_type": "code",
      "metadata": {
        "id": "JhRLYF44_C8e"
      },
      "source": [
        "image_path = '/content/drive/My Drive/spectroimage_folder/image folder'\n",
        "model = ResNet50(weights = \"imagenet\")\n",
        "model.layers.pop()\n",
        "#model.layers.pop()\n",
        "model = Model(inputs=model.inputs, outputs=model.layers[-1].output)\n",
        "#filename = 'dia0_utt0.wav.png'\n",
        "import os\n",
        "for filename in sorted(os.listdir(image_path)):\n",
        "  if filename != \".ipynb_checkpoints\":\n",
        "    image = load_img(image_path + '/' + filename, target_size=(224,224,3))\n",
        "    image = img_to_array(image)\n",
        "    image = image.reshape((1, image.shape[0], image.shape[1], image.shape[2]))\n",
        "    image = preprocess_input(image)\n",
        "    features = model.predict(image)\n",
        "    #print(features.shape)\n",
        "    dump(features, open(filename + '.pkl', 'wb'))"
      ],
      "execution_count": null,
      "outputs": []
    },
    {
      "cell_type": "code",
      "metadata": {
        "id": "T-CTwl2DvzOj"
      },
      "source": [
        "import shutil\n",
        "path_file = '/content/'\n",
        "for filename in sorted(os.listdir(path_file)):\n",
        "  if filename.endswith('.pkl'):\n",
        "    shutil.move(path_file + filename, '/content/drive/My Drive/spectroimage_folder/pickle_folder')\n"
      ],
      "execution_count": null,
      "outputs": []
    },
    {
      "cell_type": "code",
      "metadata": {
        "id": "Ra1YcS-Yxyx_",
        "colab": {
          "base_uri": "https://localhost:8080/",
          "height": 34
        },
        "outputId": "0aa39302-b87d-43dd-8c24-ed4df708214e"
      },
      "source": [
        "print(len(os.listdir(' /content/drive/My Drive/spectroimage_folder/pickle_folder')))"
      ],
      "execution_count": null,
      "outputs": [
        {
          "output_type": "stream",
          "text": [
            "2742\n"
          ],
          "name": "stdout"
        }
      ]
    },
    {
      "cell_type": "code",
      "metadata": {
        "id": "TPHviCv-lkyI"
      },
      "source": [
        "import pickle\n",
        "feature_sample = pickle.load(open('/content/drive/My Drive/spectroimage_folder/pickle_folder/dia0_utt0.wav.png.pkl','rb'))"
      ],
      "execution_count": null,
      "outputs": []
    },
    {
      "cell_type": "code",
      "metadata": {
        "id": "kLuSd5JfnRY2",
        "colab": {
          "base_uri": "https://localhost:8080/",
          "height": 34
        },
        "outputId": "11b049b3-f21f-47fb-a85a-219e8c17bb35"
      },
      "source": [
        "feature_sample.shape"
      ],
      "execution_count": null,
      "outputs": [
        {
          "output_type": "execute_result",
          "data": {
            "text/plain": [
              "(1, 2048)"
            ]
          },
          "metadata": {
            "tags": []
          },
          "execution_count": 6
        }
      ]
    },
    {
      "cell_type": "code",
      "metadata": {
        "id": "3OQ0DClnnXxv",
        "colab": {
          "base_uri": "https://localhost:8080/",
          "height": 34
        },
        "outputId": "17000322-85e1-422a-9e0b-d8e818a3e740"
      },
      "source": [
        "print(feature_sample)"
      ],
      "execution_count": null,
      "outputs": [
        {
          "output_type": "stream",
          "text": [
            "[[1.0830824  0.03754042 0.41538557 ... 0.47055343 0.06588211 0.73908734]]\n"
          ],
          "name": "stdout"
        }
      ]
    },
    {
      "cell_type": "code",
      "metadata": {
        "id": "DxPcV69goAqJ"
      },
      "source": [
        "for filename in os.listdir('/content/drive/My Drive/spectroimage_folder/pickle_folder'):\n",
        "  s = filename.split('.')[0]\n",
        "  new_name = listToString(s)+'.pkl'\n",
        "  os.rename(r'/content/drive/My Drive/spectroimage_folder/pickle_folder/'+filename, r'/content/drive/My Drive/spectroimage_folder/pickle_folder'+new_name)"
      ],
      "execution_count": null,
      "outputs": []
    },
    {
      "cell_type": "code",
      "metadata": {
        "id": "6V6Bax7nrOK4",
        "colab": {
          "base_uri": "https://localhost:8080/",
          "height": 34
        },
        "outputId": "bafae6f9-564b-4d1b-aec2-df3cb064a3f5"
      },
      "source": [
        "len(os.listdir('/content/drive/My Drive/spectroimage_folder/pickle_folder'))"
      ],
      "execution_count": null,
      "outputs": [
        {
          "output_type": "execute_result",
          "data": {
            "text/plain": [
              "0"
            ]
          },
          "metadata": {
            "tags": []
          },
          "execution_count": 13
        }
      ]
    },
    {
      "cell_type": "code",
      "metadata": {
        "id": "gyu0HQxIr_eV",
        "colab": {
          "base_uri": "https://localhost:8080/",
          "height": 34
        },
        "outputId": "7f5943bf-83e6-4a01-a476-d4b18d982013"
      },
      "source": [
        "d =  'pickle_folderdia0_utt0.pkl'\n",
        "f = d.split('pickle_folder')\n",
        "print(f)"
      ],
      "execution_count": null,
      "outputs": [
        {
          "output_type": "stream",
          "text": [
            "['', 'dia0_utt0.pkl']\n"
          ],
          "name": "stdout"
        }
      ]
    },
    {
      "cell_type": "code",
      "metadata": {
        "id": "-Gxhnm6NsV1t"
      },
      "source": [
        "import shutil\n",
        "for filename in os.listdir('/content/drive/My Drive/spectroimage_folder'):\n",
        "   if filename.endswith('.pkl'):\n",
        "     s = listToString(filename.split('pickle_folder')[1])\n",
        "     os.rename(r'/content/drive/My Drive/spectroimage_folder/'+filename, r'/content/drive/My Drive/spectroimage_folder/'+s)"
      ],
      "execution_count": null,
      "outputs": []
    },
    {
      "cell_type": "code",
      "metadata": {
        "id": "Nb9Ny2Tttrco"
      },
      "source": [
        "for filename in os.listdir('/content/drive/My Drive/spectroimage_folder'):\n",
        "  if filename.endswith('.pkl'):\n",
        "    shutil.move('/content/drive/My Drive/spectroimage_folder/'+filename, '/content/drive/My Drive/spectroimage_folder/pickle_folder')\n",
        "    "
      ],
      "execution_count": null,
      "outputs": []
    },
    {
      "cell_type": "code",
      "metadata": {
        "id": "kKBK3R_HEhi6"
      },
      "source": [
        "emotion_dict = {'joy':1, 'anger':2, 'sadness':3, 'surprise':4, 'neutral':5, 'fear':6, 'disgust':7}\n",
        "x_train = []\n",
        "y_train = []\n",
        "x_test = []\n",
        "y_test = []"
      ],
      "execution_count": null,
      "outputs": []
    },
    {
      "cell_type": "code",
      "metadata": {
        "id": "cLrP-IjMJCs6",
        "colab": {
          "base_uri": "https://localhost:8080/",
          "height": 229
        },
        "outputId": "7363dde5-6b20-4fb1-b72b-b68c7dfbf50c"
      },
      "source": [
        "import os\n",
        "import pickle\n",
        "path = '/content/drive/My Drive/spectroimage_folder/pickle_folder'\n",
        "for filename in sorted(os.listdir(path)):\n",
        "   l = filename.split('.') \n",
        "   f = listToString(l[0])\n",
        "   dia_no = int(f.split('dia')[1].split('_utt')[0])\n",
        "   utt_no = int(f.split('dia')[1].split('_utt')[1].split('_')[0])\n",
        "   feature_sample = pickle.load(open(path +'/'+filename,'rb'))\n",
        "   emotion = df[(df.Dialogue_ID == dia_no) & (df.Utterance_ID == utt_no)][['Emotion']].values[0][0]\n",
        "   if dia_no < 230:\n",
        "     x_train.append(feature_sample)\n",
        "     y_train.append(emotion_dict[emotion])\n",
        "   else:\n",
        "     x_test.append(feature_sample)\n",
        "     y_test.append(emotion_dict[emotion])\n",
        "\n",
        "   "
      ],
      "execution_count": null,
      "outputs": [
        {
          "output_type": "error",
          "ename": "IndexError",
          "evalue": "ignored",
          "traceback": [
            "\u001b[0;31m---------------------------------------------------------------------------\u001b[0m",
            "\u001b[0;31mIndexError\u001b[0m                                Traceback (most recent call last)",
            "\u001b[0;32m<ipython-input-5-aba9e14e50b2>\u001b[0m in \u001b[0;36m<module>\u001b[0;34m()\u001b[0m\n\u001b[1;32m      5\u001b[0m    \u001b[0ml\u001b[0m \u001b[0;34m=\u001b[0m \u001b[0mfilename\u001b[0m\u001b[0;34m.\u001b[0m\u001b[0msplit\u001b[0m\u001b[0;34m(\u001b[0m\u001b[0;34m'.'\u001b[0m\u001b[0;34m)\u001b[0m\u001b[0;34m\u001b[0m\u001b[0;34m\u001b[0m\u001b[0m\n\u001b[1;32m      6\u001b[0m    \u001b[0mf\u001b[0m \u001b[0;34m=\u001b[0m \u001b[0mlistToString\u001b[0m\u001b[0;34m(\u001b[0m\u001b[0ml\u001b[0m\u001b[0;34m[\u001b[0m\u001b[0;36m0\u001b[0m\u001b[0;34m]\u001b[0m\u001b[0;34m)\u001b[0m\u001b[0;34m\u001b[0m\u001b[0;34m\u001b[0m\u001b[0m\n\u001b[0;32m----> 7\u001b[0;31m    \u001b[0mdia_no\u001b[0m \u001b[0;34m=\u001b[0m \u001b[0mint\u001b[0m\u001b[0;34m(\u001b[0m\u001b[0mf\u001b[0m\u001b[0;34m.\u001b[0m\u001b[0msplit\u001b[0m\u001b[0;34m(\u001b[0m\u001b[0;34m'dia'\u001b[0m\u001b[0;34m)\u001b[0m\u001b[0;34m[\u001b[0m\u001b[0;36m1\u001b[0m\u001b[0;34m]\u001b[0m\u001b[0;34m.\u001b[0m\u001b[0msplit\u001b[0m\u001b[0;34m(\u001b[0m\u001b[0;34m'_utt'\u001b[0m\u001b[0;34m)\u001b[0m\u001b[0;34m[\u001b[0m\u001b[0;36m0\u001b[0m\u001b[0;34m]\u001b[0m\u001b[0;34m)\u001b[0m\u001b[0;34m\u001b[0m\u001b[0;34m\u001b[0m\u001b[0m\n\u001b[0m\u001b[1;32m      8\u001b[0m    \u001b[0mutt_no\u001b[0m \u001b[0;34m=\u001b[0m \u001b[0mint\u001b[0m\u001b[0;34m(\u001b[0m\u001b[0mf\u001b[0m\u001b[0;34m.\u001b[0m\u001b[0msplit\u001b[0m\u001b[0;34m(\u001b[0m\u001b[0;34m'dia'\u001b[0m\u001b[0;34m)\u001b[0m\u001b[0;34m[\u001b[0m\u001b[0;36m1\u001b[0m\u001b[0;34m]\u001b[0m\u001b[0;34m.\u001b[0m\u001b[0msplit\u001b[0m\u001b[0;34m(\u001b[0m\u001b[0;34m'_utt'\u001b[0m\u001b[0;34m)\u001b[0m\u001b[0;34m[\u001b[0m\u001b[0;36m1\u001b[0m\u001b[0;34m]\u001b[0m\u001b[0;34m.\u001b[0m\u001b[0msplit\u001b[0m\u001b[0;34m(\u001b[0m\u001b[0;34m'_'\u001b[0m\u001b[0;34m)\u001b[0m\u001b[0;34m[\u001b[0m\u001b[0;36m0\u001b[0m\u001b[0;34m]\u001b[0m\u001b[0;34m)\u001b[0m\u001b[0;34m\u001b[0m\u001b[0;34m\u001b[0m\u001b[0m\n\u001b[1;32m      9\u001b[0m    \u001b[0mfeature_sample\u001b[0m \u001b[0;34m=\u001b[0m \u001b[0mpickle\u001b[0m\u001b[0;34m.\u001b[0m\u001b[0mload\u001b[0m\u001b[0;34m(\u001b[0m\u001b[0mopen\u001b[0m\u001b[0;34m(\u001b[0m\u001b[0mpath\u001b[0m \u001b[0;34m+\u001b[0m\u001b[0;34m'/'\u001b[0m\u001b[0;34m+\u001b[0m\u001b[0mfilename\u001b[0m\u001b[0;34m,\u001b[0m\u001b[0;34m'rb'\u001b[0m\u001b[0;34m)\u001b[0m\u001b[0;34m)\u001b[0m\u001b[0;34m\u001b[0m\u001b[0;34m\u001b[0m\u001b[0m\n",
            "\u001b[0;31mIndexError\u001b[0m: list index out of range"
          ]
        }
      ]
    },
    {
      "cell_type": "code",
      "metadata": {
        "id": "oJQcBfCcVu7V",
        "colab": {
          "base_uri": "https://localhost:8080/",
          "height": 34
        },
        "outputId": "06fbac22-8a19-4a26-fc84-c9a48586b994"
      },
      "source": [
        "x_train[0].shape"
      ],
      "execution_count": null,
      "outputs": [
        {
          "output_type": "execute_result",
          "data": {
            "text/plain": [
              "(1, 2048)"
            ]
          },
          "metadata": {
            "tags": []
          },
          "execution_count": 6
        }
      ]
    },
    {
      "cell_type": "code",
      "metadata": {
        "id": "rrsx3o4BWO8C"
      },
      "source": [
        "from pickle import dump\n",
        "dump(x_train, open('x_train' + '.pkl', 'wb'))\n",
        "dump(y_train, open('y_train' + '.pkl', 'wb'))\n",
        "dump(x_test, open('x_test' + '.pkl', 'wb'))\n",
        "dump(y_test, open('y_test' + '.pkl', 'wb'))"
      ],
      "execution_count": null,
      "outputs": []
    },
    {
      "cell_type": "code",
      "metadata": {
        "id": "Y8J3CnzgwLc_",
        "colab": {
          "base_uri": "https://localhost:8080/",
          "height": 34
        },
        "outputId": "406c338d-7531-4214-b5ea-f92f4ee5978a"
      },
      "source": [
        "import shutil\n",
        "shutil.move('/content/x_test.pkl','/content/drive/My Drive/spectroimage_folder')\n",
        "shutil.move('/content/y_test.pkl','/content/drive/My Drive/spectroimage_folder')\n",
        "shutil.move('/content/x_train.pkl','/content/drive/My Drive/spectroimage_folder')\n",
        "shutil.move('/content/y_train.pkl','/content/drive/My Drive/spectroimage_folder')"
      ],
      "execution_count": null,
      "outputs": [
        {
          "output_type": "execute_result",
          "data": {
            "text/plain": [
              "'/content/drive/My Drive/spectroimage_folder/y_train.pkl'"
            ]
          },
          "metadata": {
            "tags": []
          },
          "execution_count": 8
        }
      ]
    },
    {
      "cell_type": "code",
      "metadata": {
        "id": "ADeiJ1vDG4o1",
        "colab": {
          "base_uri": "https://localhost:8080/",
          "height": 54
        },
        "outputId": "0606b1e9-c14e-4b32-bdce-7432f385c5c7"
      },
      "source": [
        "import pickle \n",
        "x_train = pickle.load(open('/content/drive/My Drive/spectroimage_folder/x_train.pkl','rb'))\n",
        "x_test = pickle.load(open('/content/drive/My Drive/spectroimage_folder/x_test.pkl','rb'))\n",
        "y_train = pickle.load(open('/content/drive/My Drive/spectroimage_folder/y_train.pkl','rb'))\n",
        "y_test = pickle.load(open('/content/drive/My Drive/spectroimage_folder/y_test.pkl','rb'))\n",
        "print(y_train)"
      ],
      "execution_count": null,
      "outputs": [
        {
          "output_type": "stream",
          "text": [
            "[4, 2, 5, 5, 5, 3, 5, 5, 5, 6, 6, 5, 5, 6, 3, 5, 5, 5, 3, 3, 5, 5, 5, 1, 5, 3, 5, 2, 5, 4, 5, 2, 3, 2, 3, 5, 1, 1, 5, 6, 4, 2, 4, 1, 4, 5, 2, 6, 2, 2, 5, 7, 3, 5, 5, 5, 5, 4, 1, 3, 5, 1, 3, 3, 5, 5, 7, 2, 2, 1, 1, 4, 4, 1, 1, 1, 2, 5, 4, 2, 5, 4, 2, 5, 5, 5, 4, 5, 5, 4, 1, 5, 3, 1, 7, 5, 5, 2, 5, 5, 4, 5, 1, 2, 3, 2, 3, 3, 3, 6, 5, 5, 5, 1, 4, 4, 4, 5, 1, 5, 5, 1, 7, 1, 5, 7, 4, 5, 2, 2, 5, 5, 2, 4, 2, 5, 4, 2, 4, 2, 5, 1, 5, 6, 4, 2, 2, 2, 5, 5, 5, 4, 5, 5, 1, 1, 5, 2, 7, 5, 5, 5, 5, 5, 2, 2, 5, 2, 3, 5, 5, 5, 5, 5, 1, 5, 5, 5, 6, 5, 2, 4, 3, 3, 4, 5, 4, 1, 3, 3, 5, 1, 5, 6, 5, 3, 5, 4, 5, 6, 4, 3, 6, 5, 5, 5, 1, 5, 1, 7, 4, 5, 5, 2, 2, 2, 5, 1, 1, 5, 1, 1, 5, 5, 7, 1, 1, 5, 5, 1, 1, 5, 4, 5, 1, 5, 5, 5, 4, 3, 5, 7, 5, 3, 7, 5, 2, 5, 4, 5, 5, 7, 5, 3, 4, 4, 3, 5, 1, 3, 5, 5, 3, 5, 2, 4, 4, 1, 5, 5, 1, 5, 4, 4, 5, 5, 4, 2, 2, 5, 3, 3, 4, 5, 5, 5, 5, 4, 5, 5, 5, 1, 2, 5, 2, 1, 1, 5, 1, 5, 6, 5, 5, 5, 4, 5, 2, 5, 5, 5, 5, 5, 5, 5, 5, 6, 4, 2, 7, 5, 7, 5, 1, 4, 5, 3, 5, 5, 5, 5, 2, 5, 5, 1, 1, 5, 5, 5, 5, 5, 5, 1, 3, 2, 2, 2, 3, 3, 1, 5, 5, 7, 3, 6, 3, 5, 5, 5, 5, 5, 5, 5, 5, 1, 4, 5, 4, 5, 5, 1, 5, 1, 5, 5, 1, 5, 1, 5, 5, 2, 5, 5, 5, 5, 5, 1, 5, 5, 4, 5, 5, 1, 5, 5, 5, 5, 4, 1, 1, 5, 4, 3, 4, 5, 6, 5, 1, 1, 1, 5, 5, 4, 5, 4, 3, 1, 2, 5, 4, 5, 1, 1, 1, 1, 5, 5, 4, 5, 4, 2, 2, 5, 5, 5, 5, 5, 4, 5, 4, 5, 7, 4, 4, 5, 3, 5, 1, 1, 5, 5, 4, 1, 5, 5, 5, 5, 4, 5, 2, 2, 2, 2, 3, 5, 2, 3, 3, 5, 5, 5, 5, 5, 5, 1, 5, 5, 3, 1, 5, 5, 5, 5, 5, 5, 5, 5, 5, 5, 3, 5, 6, 4, 2, 7, 2, 1, 2, 2, 2, 5, 5, 2, 5, 2, 4, 2, 5, 2, 4, 5, 4, 5, 5, 5, 5, 4, 5, 5, 5, 5, 5, 4, 1, 3, 4, 5, 4, 1, 1, 4, 4, 1, 3, 2, 2, 2, 2, 5, 5, 5, 3, 3, 3, 3, 4, 1, 5, 1, 1, 5, 5, 1, 1, 5, 1, 3, 2, 3, 3, 3, 5, 7, 5, 5, 5, 5, 5, 4, 5, 5, 5, 5, 1, 6, 5, 5, 6, 5, 5, 5, 1, 5, 1, 1, 1, 1, 1, 5, 5, 4, 1, 1, 5, 5, 1, 5, 1, 5, 5, 4, 1, 2, 1, 2, 2, 5, 4, 5, 3, 5, 5, 3, 1, 1, 3, 1, 2, 5, 1, 2, 5, 5, 5, 5, 2, 1, 5, 3, 5, 5, 2, 5, 5, 5, 5, 5, 5, 3, 3, 5, 2, 5, 4, 2, 2, 1, 1, 1, 5, 5, 2, 3, 2, 3, 3, 3, 2, 2, 2, 2, 2, 3, 3, 2, 2, 5, 5, 1, 4, 5, 1, 1, 5, 1, 5, 5, 5, 1, 5, 5, 5, 5, 2, 3, 7, 3, 1, 5, 5, 3, 5, 5, 4, 5, 5, 5, 5, 5, 5, 5, 2, 5, 2, 5, 4, 7, 3, 4, 2, 5, 5, 5, 5, 4, 2, 3, 3, 5, 5, 5, 5, 3, 5, 5, 5, 5, 5, 2, 5, 5, 5, 5, 5, 1, 1, 2, 3, 2, 5, 5, 5, 2, 4, 2, 4, 2, 2, 2, 5, 5, 5, 5, 5, 5, 5, 6, 5, 4, 1, 2, 4, 4, 5, 5, 4, 5, 4, 7, 5, 2, 5, 4, 2, 2, 4, 4, 2, 5, 4, 2, 5, 5, 5, 5, 4, 5, 5, 5, 5, 2, 4, 4, 5, 7, 7, 2, 1, 5, 1, 1, 5, 5, 1, 1, 5, 5, 5, 5, 4, 5, 3, 3, 3, 3, 1, 3, 5, 5, 5, 5, 2, 4, 4, 3, 3, 5, 5, 5, 5, 5, 5, 2, 5, 3, 5, 3, 5, 5, 5, 3, 1, 3, 5, 4, 5, 5, 5, 2, 2, 2, 4, 2, 5, 2, 2, 7, 5, 4, 2, 5, 1, 4, 6, 5, 1, 5, 7, 2, 5, 5, 5, 5, 5, 5, 5, 1, 5, 5, 5, 6, 5, 5, 4, 2, 2, 4, 5, 5, 5, 2, 3, 7, 2, 7, 5, 6, 6, 5, 5, 5, 5, 5, 5, 5, 2, 5, 2, 2, 3, 2, 7, 2, 2, 5, 7, 1, 2, 2, 2, 2, 5, 5, 5, 5, 1, 1, 1, 5, 2, 7, 5, 1, 1, 5, 5, 4, 1, 2, 2, 6, 6, 1, 1, 4, 4, 4, 5, 5, 5, 2, 5, 5, 5, 5, 5, 3, 4, 5, 4, 5, 5, 1, 2, 3, 2, 5, 6, 3, 5, 4, 5, 5, 4, 1, 4, 5, 1, 5, 7, 5, 5, 3, 5, 5, 5, 1, 1, 5, 5, 5, 5, 5, 5, 5, 5, 5, 5, 5, 5, 1, 1, 1, 1, 1, 5, 5, 5, 4, 2, 5, 5, 5, 5, 4, 5, 4, 5, 5, 3, 5, 3, 5, 5, 5, 1, 5, 4, 5, 2, 5, 5, 5, 2, 5, 2, 2, 5, 4, 1, 4, 1, 1, 5, 5, 5, 2, 5, 5, 4, 5, 6, 5, 1, 5, 3, 5, 5, 5, 1, 1, 4, 5, 2, 7, 5, 5, 2, 5, 2, 2, 2, 5, 2, 3, 2, 2, 2, 2, 5, 5, 5, 5, 5, 5, 1, 5, 1, 5, 5, 1, 2, 5, 4, 4, 1, 1, 2, 5, 5, 3, 3, 3, 3, 3, 3, 1, 5, 5, 3, 3, 3, 3, 3, 3, 4, 5, 1, 1, 1, 1, 1, 1, 1, 4, 2, 2, 2, 2, 5, 4, 4, 2, 1, 5, 5, 5, 5, 5, 2, 5, 5, 1, 1, 1, 1, 1, 1, 1, 2, 5, 1, 5, 5, 4, 4, 5, 4, 1, 5, 1, 1, 3, 2, 4, 2, 2, 2, 2, 2, 5, 2, 4, 2, 5, 6, 4, 7, 7, 4, 1, 5, 5, 5, 2, 3, 3, 5, 5, 5, 3, 5, 3, 5, 5, 3, 3, 5, 3, 4, 3, 4, 1, 2, 5, 5, 5, 5, 5, 1, 5, 2, 2, 2, 5, 2, 1, 7, 1, 4, 5, 2, 4, 2, 4, 2, 2, 5, 5, 5, 5, 3, 5, 3, 5, 3, 2, 5, 5, 5, 5, 5, 5, 1, 4, 1, 5, 5, 3, 3, 5, 5, 3, 1, 1, 1, 5, 5, 3, 1, 5, 1, 5, 3, 3, 3, 5, 1, 1, 5, 5, 4, 4, 5, 5, 5, 5, 4, 5, 6, 5, 1, 5, 5, 5, 5, 5, 3, 5, 5, 5, 5, 3, 1, 4, 7, 2, 5, 5, 5, 5, 3, 5, 5, 4, 5, 2, 4, 5, 1, 1, 1, 1, 1, 5, 5, 3, 6, 5, 6, 5, 1, 5, 5, 5, 5, 5, 5, 5, 5, 5, 5, 5, 1, 5, 3, 5, 5, 5, 1, 5, 3, 5, 4, 5, 5, 1, 6, 4, 5, 5, 5, 5, 4, 3, 4, 5, 5, 2, 5, 5, 2, 3, 3, 1, 5, 1, 1, 5, 4, 1, 5, 5, 5, 1, 1, 5, 2, 5, 1, 1, 5, 1, 5, 1, 1, 4, 5, 5, 5, 1, 3, 5, 3, 4, 3, 4, 1, 5, 5, 5, 1, 5, 1, 5, 5, 2, 5, 5, 5, 5, 5, 2, 3, 5, 2, 4, 1, 5, 2, 5, 1, 1, 5, 5, 1, 5, 5, 5, 5, 1, 2, 5, 5, 3, 5, 5, 5, 1, 5, 3, 5, 4, 6, 1, 1, 5, 4, 4, 4, 6, 1, 5, 5, 5, 5, 5, 3, 4, 2, 2, 2, 1, 1, 5, 4, 1, 1, 1, 4, 7, 5, 4, 1, 3, 3, 1, 5, 5, 5, 3, 5, 5, 4, 3, 3, 2, 2, 5, 5, 4, 3, 3, 5, 5, 2, 5, 7, 5, 5, 4, 4, 2, 2, 5, 2, 2, 1, 4, 2, 4, 7, 2, 5, 5, 5, 1, 5, 5, 5, 5, 2, 2, 5, 2, 6, 2, 5, 2, 2, 1, 1, 5, 1, 1, 5, 5, 5, 5, 5, 5, 5, 5, 1, 5, 5, 4, 5, 6, 5, 5, 2, 7, 5, 1, 5, 5, 2, 3, 3, 5, 2, 4, 2, 4, 7, 5, 4, 4, 1, 3, 5, 4, 5, 4, 1, 4, 5, 5, 5, 5, 5, 5, 5, 5, 5, 5, 1, 5, 2, 5, 5, 4, 1, 1, 2, 5, 5, 1, 1, 1, 1, 1, 1, 5, 1, 1, 3, 3, 5, 5, 5, 5, 3, 5, 5, 5, 3, 5, 5, 5, 5, 5, 5, 1, 1, 1, 1, 1, 1, 5, 1, 4, 5, 1, 5, 5, 5, 5, 5, 5, 5, 5, 5, 1, 4, 5, 4, 4, 5, 6, 7, 2, 5, 5, 5, 6, 5, 1, 1, 5, 5, 7, 2, 2, 5, 4, 5, 5, 5, 4, 4, 5, 4, 5, 5, 1, 1, 1, 1, 1, 5, 3, 3, 4, 1, 5, 5, 3, 3, 5, 2, 5, 4, 5, 2, 5, 5, 5, 5, 1, 3, 5, 4, 1, 1, 5, 2, 1, 5, 1, 1, 5, 5, 1, 1, 5, 1, 7, 1, 1, 3, 5, 1, 1, 5, 5, 3, 1, 1, 5, 5, 5, 4, 4, 3, 5, 5, 2, 2, 5, 5, 5, 5, 5, 5, 5, 5, 6, 5, 1, 4, 3, 2, 2, 4, 7, 4, 5, 2, 5, 5, 2, 5, 5, 5, 3, 5, 4, 5, 5, 2, 2, 2, 5, 5, 5, 5, 5, 5, 5, 4, 5, 7, 4, 5, 2, 5, 5, 2, 5, 1, 1, 5, 1, 5, 5, 5, 1, 2, 2, 5, 2, 1, 1, 5, 5, 3, 5, 2, 5, 1, 5, 1, 2, 2, 5, 5, 5, 1, 5, 5, 4, 5, 5, 7, 2, 2, 2, 2, 3, 3, 1, 5, 5, 5, 5, 5, 1, 5, 5, 5, 5, 5, 3, 7, 1, 5, 5, 5, 1, 6, 1, 4, 1, 4, 4, 5, 5, 5, 5, 1, 2, 2, 5, 2, 5, 5, 4, 2, 2, 2, 2, 2, 2, 2, 2, 6, 5, 2, 2, 5, 5, 5, 5, 1, 2, 5, 1, 5, 5, 5, 5, 5, 5, 5, 5, 2, 5, 5, 5, 5, 5, 5, 5, 5, 5, 1, 5, 1, 5, 5, 5, 5, 5, 5, 4, 5, 4, 5, 2, 2, 3, 3, 5, 5, 5, 5, 5, 5, 1, 1, 1, 5, 5, 5, 5, 5, 5, 4, 5, 4, 5, 5, 2, 2, 7, 2, 2, 5, 5, 2, 5, 5, 1, 5, 5, 5, 5, 2, 5, 5, 1, 2, 4, 3, 5, 3, 2, 2, 3, 5, 4, 2, 2, 7, 2, 5, 5, 5, 5, 5, 7, 1, 4, 5, 5, 1, 1, 5, 4, 1, 5, 7, 2, 5, 5, 2, 5, 3, 1, 5, 5, 4, 3, 1, 5, 4, 5, 5, 1, 5, 2, 4, 3, 3, 3, 5, 1, 5, 5, 1, 1, 7, 3, 3, 5, 5, 2, 5, 5, 5, 5, 5, 5, 5, 5, 4, 5, 5, 4, 1, 5, 4, 1, 1, 1, 1, 5, 6, 5, 1, 4, 5, 4, 2, 5, 1, 1, 2, 5, 5, 5, 5, 4, 5, 4, 5, 5, 5, 5, 5, 1, 5, 7, 1, 5, 2, 7, 5, 2, 1, 1, 5, 1, 5, 5, 5, 5, 5, 5, 6, 5, 4, 2, 5, 5, 4, 2, 2, 2, 2, 2, 2, 5, 5, 5, 5, 5, 5, 5, 5, 5, 5, 6, 6, 5, 5, 3, 5, 2, 5, 1, 5, 5, 3, 4, 4, 5, 4, 2, 3, 3]\n"
          ],
          "name": "stdout"
        }
      ]
    },
    {
      "cell_type": "code",
      "metadata": {
        "id": "v8royILMbI5P",
        "colab": {
          "base_uri": "https://localhost:8080/",
          "height": 54
        },
        "outputId": "f425d849-9743-4212-d84d-6c8ec217bb3b"
      },
      "source": [
        "for i in range(len(y_train)-1):\n",
        "  y_train[i] = y_train[i]-1\n",
        "print(y_train)"
      ],
      "execution_count": null,
      "outputs": [
        {
          "output_type": "stream",
          "text": [
            "[3, 1, 4, 4, 4, 2, 4, 4, 4, 5, 5, 4, 4, 5, 2, 4, 4, 4, 2, 2, 4, 4, 4, 0, 4, 2, 4, 1, 4, 3, 4, 1, 2, 1, 2, 4, 0, 0, 4, 5, 3, 1, 3, 0, 3, 4, 1, 5, 1, 1, 4, 6, 2, 4, 4, 4, 4, 3, 0, 2, 4, 0, 2, 2, 4, 4, 6, 1, 1, 0, 0, 3, 3, 0, 0, 0, 1, 4, 3, 1, 4, 3, 1, 4, 4, 4, 3, 4, 4, 3, 0, 4, 2, 0, 6, 4, 4, 1, 4, 4, 3, 4, 0, 1, 2, 1, 2, 2, 2, 5, 4, 4, 4, 0, 3, 3, 3, 4, 0, 4, 4, 0, 6, 0, 4, 6, 3, 4, 1, 1, 4, 4, 1, 3, 1, 4, 3, 1, 3, 1, 4, 0, 4, 5, 3, 1, 1, 1, 4, 4, 4, 3, 4, 4, 0, 0, 4, 1, 6, 4, 4, 4, 4, 4, 1, 1, 4, 1, 2, 4, 4, 4, 4, 4, 0, 4, 4, 4, 5, 4, 1, 3, 2, 2, 3, 4, 3, 0, 2, 2, 4, 0, 4, 5, 4, 2, 4, 3, 4, 5, 3, 2, 5, 4, 4, 4, 0, 4, 0, 6, 3, 4, 4, 1, 1, 1, 4, 0, 0, 4, 0, 0, 4, 4, 6, 0, 0, 4, 4, 0, 0, 4, 3, 4, 0, 4, 4, 4, 3, 2, 4, 6, 4, 2, 6, 4, 1, 4, 3, 4, 4, 6, 4, 2, 3, 3, 2, 4, 0, 2, 4, 4, 2, 4, 1, 3, 3, 0, 4, 4, 0, 4, 3, 3, 4, 4, 3, 1, 1, 4, 2, 2, 3, 4, 4, 4, 4, 3, 4, 4, 4, 0, 1, 4, 1, 0, 0, 4, 0, 4, 5, 4, 4, 4, 3, 4, 1, 4, 4, 4, 4, 4, 4, 4, 4, 5, 3, 1, 6, 4, 6, 4, 0, 3, 4, 2, 4, 4, 4, 4, 1, 4, 4, 0, 0, 4, 4, 4, 4, 4, 4, 0, 2, 1, 1, 1, 2, 2, 0, 4, 4, 6, 2, 5, 2, 4, 4, 4, 4, 4, 4, 4, 4, 0, 3, 4, 3, 4, 4, 0, 4, 0, 4, 4, 0, 4, 0, 4, 4, 1, 4, 4, 4, 4, 4, 0, 4, 4, 3, 4, 4, 0, 4, 4, 4, 4, 3, 0, 0, 4, 3, 2, 3, 4, 5, 4, 0, 0, 0, 4, 4, 3, 4, 3, 2, 0, 1, 4, 3, 4, 0, 0, 0, 0, 4, 4, 3, 4, 3, 1, 1, 4, 4, 4, 4, 4, 3, 4, 3, 4, 6, 3, 3, 4, 2, 4, 0, 0, 4, 4, 3, 0, 4, 4, 4, 4, 3, 4, 1, 1, 1, 1, 2, 4, 1, 2, 2, 4, 4, 4, 4, 4, 4, 0, 4, 4, 2, 0, 4, 4, 4, 4, 4, 4, 4, 4, 4, 4, 2, 4, 5, 3, 1, 6, 1, 0, 1, 1, 1, 4, 4, 1, 4, 1, 3, 1, 4, 1, 3, 4, 3, 4, 4, 4, 4, 3, 4, 4, 4, 4, 4, 3, 0, 2, 3, 4, 3, 0, 0, 3, 3, 0, 2, 1, 1, 1, 1, 4, 4, 4, 2, 2, 2, 2, 3, 0, 4, 0, 0, 4, 4, 0, 0, 4, 0, 2, 1, 2, 2, 2, 4, 6, 4, 4, 4, 4, 4, 3, 4, 4, 4, 4, 0, 5, 4, 4, 5, 4, 4, 4, 0, 4, 0, 0, 0, 0, 0, 4, 4, 3, 0, 0, 4, 4, 0, 4, 0, 4, 4, 3, 0, 1, 0, 1, 1, 4, 3, 4, 2, 4, 4, 2, 0, 0, 2, 0, 1, 4, 0, 1, 4, 4, 4, 4, 1, 0, 4, 2, 4, 4, 1, 4, 4, 4, 4, 4, 4, 2, 2, 4, 1, 4, 3, 1, 1, 0, 0, 0, 4, 4, 1, 2, 1, 2, 2, 2, 1, 1, 1, 1, 1, 2, 2, 1, 1, 4, 4, 0, 3, 4, 0, 0, 4, 0, 4, 4, 4, 0, 4, 4, 4, 4, 1, 2, 6, 2, 0, 4, 4, 2, 4, 4, 3, 4, 4, 4, 4, 4, 4, 4, 1, 4, 1, 4, 3, 6, 2, 3, 1, 4, 4, 4, 4, 3, 1, 2, 2, 4, 4, 4, 4, 2, 4, 4, 4, 4, 4, 1, 4, 4, 4, 4, 4, 0, 0, 1, 2, 1, 4, 4, 4, 1, 3, 1, 3, 1, 1, 1, 4, 4, 4, 4, 4, 4, 4, 5, 4, 3, 0, 1, 3, 3, 4, 4, 3, 4, 3, 6, 4, 1, 4, 3, 1, 1, 3, 3, 1, 4, 3, 1, 4, 4, 4, 4, 3, 4, 4, 4, 4, 1, 3, 3, 4, 6, 6, 1, 0, 4, 0, 0, 4, 4, 0, 0, 4, 4, 4, 4, 3, 4, 2, 2, 2, 2, 0, 2, 4, 4, 4, 4, 1, 3, 3, 2, 2, 4, 4, 4, 4, 4, 4, 1, 4, 2, 4, 2, 4, 4, 4, 2, 0, 2, 4, 3, 4, 4, 4, 1, 1, 1, 3, 1, 4, 1, 1, 6, 4, 3, 1, 4, 0, 3, 5, 4, 0, 4, 6, 1, 4, 4, 4, 4, 4, 4, 4, 0, 4, 4, 4, 5, 4, 4, 3, 1, 1, 3, 4, 4, 4, 1, 2, 6, 1, 6, 4, 5, 5, 4, 4, 4, 4, 4, 4, 4, 1, 4, 1, 1, 2, 1, 6, 1, 1, 4, 6, 0, 1, 1, 1, 1, 4, 4, 4, 4, 0, 0, 0, 4, 1, 6, 4, 0, 0, 4, 4, 3, 0, 1, 1, 5, 5, 0, 0, 3, 3, 3, 4, 4, 4, 1, 4, 4, 4, 4, 4, 2, 3, 4, 3, 4, 4, 0, 1, 2, 1, 4, 5, 2, 4, 3, 4, 4, 3, 0, 3, 4, 0, 4, 6, 4, 4, 2, 4, 4, 4, 0, 0, 4, 4, 4, 4, 4, 4, 4, 4, 4, 4, 4, 4, 0, 0, 0, 0, 0, 4, 4, 4, 3, 1, 4, 4, 4, 4, 3, 4, 3, 4, 4, 2, 4, 2, 4, 4, 4, 0, 4, 3, 4, 1, 4, 4, 4, 1, 4, 1, 1, 4, 3, 0, 3, 0, 0, 4, 4, 4, 1, 4, 4, 3, 4, 5, 4, 0, 4, 2, 4, 4, 4, 0, 0, 3, 4, 1, 6, 4, 4, 1, 4, 1, 1, 1, 4, 1, 2, 1, 1, 1, 1, 4, 4, 4, 4, 4, 4, 0, 4, 0, 4, 4, 0, 1, 4, 3, 3, 0, 0, 1, 4, 4, 2, 2, 2, 2, 2, 2, 0, 4, 4, 2, 2, 2, 2, 2, 2, 3, 4, 0, 0, 0, 0, 0, 0, 0, 3, 1, 1, 1, 1, 4, 3, 3, 1, 0, 4, 4, 4, 4, 4, 1, 4, 4, 0, 0, 0, 0, 0, 0, 0, 1, 4, 0, 4, 4, 3, 3, 4, 3, 0, 4, 0, 0, 2, 1, 3, 1, 1, 1, 1, 1, 4, 1, 3, 1, 4, 5, 3, 6, 6, 3, 0, 4, 4, 4, 1, 2, 2, 4, 4, 4, 2, 4, 2, 4, 4, 2, 2, 4, 2, 3, 2, 3, 0, 1, 4, 4, 4, 4, 4, 0, 4, 1, 1, 1, 4, 1, 0, 6, 0, 3, 4, 1, 3, 1, 3, 1, 1, 4, 4, 4, 4, 2, 4, 2, 4, 2, 1, 4, 4, 4, 4, 4, 4, 0, 3, 0, 4, 4, 2, 2, 4, 4, 2, 0, 0, 0, 4, 4, 2, 0, 4, 0, 4, 2, 2, 2, 4, 0, 0, 4, 4, 3, 3, 4, 4, 4, 4, 3, 4, 5, 4, 0, 4, 4, 4, 4, 4, 2, 4, 4, 4, 4, 2, 0, 3, 6, 1, 4, 4, 4, 4, 2, 4, 4, 3, 4, 1, 3, 4, 0, 0, 0, 0, 0, 4, 4, 2, 5, 4, 5, 4, 0, 4, 4, 4, 4, 4, 4, 4, 4, 4, 4, 4, 0, 4, 2, 4, 4, 4, 0, 4, 2, 4, 3, 4, 4, 0, 5, 3, 4, 4, 4, 4, 3, 2, 3, 4, 4, 1, 4, 4, 1, 2, 2, 0, 4, 0, 0, 4, 3, 0, 4, 4, 4, 0, 0, 4, 1, 4, 0, 0, 4, 0, 4, 0, 0, 3, 4, 4, 4, 0, 2, 4, 2, 3, 2, 3, 0, 4, 4, 4, 0, 4, 0, 4, 4, 1, 4, 4, 4, 4, 4, 1, 2, 4, 1, 3, 0, 4, 1, 4, 0, 0, 4, 4, 0, 4, 4, 4, 4, 0, 1, 4, 4, 2, 4, 4, 4, 0, 4, 2, 4, 3, 5, 0, 0, 4, 3, 3, 3, 5, 0, 4, 4, 4, 4, 4, 2, 3, 1, 1, 1, 0, 0, 4, 3, 0, 0, 0, 3, 6, 4, 3, 0, 2, 2, 0, 4, 4, 4, 2, 4, 4, 3, 2, 2, 1, 1, 4, 4, 3, 2, 2, 4, 4, 1, 4, 6, 4, 4, 3, 3, 1, 1, 4, 1, 1, 0, 3, 1, 3, 6, 1, 4, 4, 4, 0, 4, 4, 4, 4, 1, 1, 4, 1, 5, 1, 4, 1, 1, 0, 0, 4, 0, 0, 4, 4, 4, 4, 4, 4, 4, 4, 0, 4, 4, 3, 4, 5, 4, 4, 1, 6, 4, 0, 4, 4, 1, 2, 2, 4, 1, 3, 1, 3, 6, 4, 3, 3, 0, 2, 4, 3, 4, 3, 0, 3, 4, 4, 4, 4, 4, 4, 4, 4, 4, 4, 0, 4, 1, 4, 4, 3, 0, 0, 1, 4, 4, 0, 0, 0, 0, 0, 0, 4, 0, 0, 2, 2, 4, 4, 4, 4, 2, 4, 4, 4, 2, 4, 4, 4, 4, 4, 4, 0, 0, 0, 0, 0, 0, 4, 0, 3, 4, 0, 4, 4, 4, 4, 4, 4, 4, 4, 4, 0, 3, 4, 3, 3, 4, 5, 6, 1, 4, 4, 4, 5, 4, 0, 0, 4, 4, 6, 1, 1, 4, 3, 4, 4, 4, 3, 3, 4, 3, 4, 4, 0, 0, 0, 0, 0, 4, 2, 2, 3, 0, 4, 4, 2, 2, 4, 1, 4, 3, 4, 1, 4, 4, 4, 4, 0, 2, 4, 3, 0, 0, 4, 1, 0, 4, 0, 0, 4, 4, 0, 0, 4, 0, 6, 0, 0, 2, 4, 0, 0, 4, 4, 2, 0, 0, 4, 4, 4, 3, 3, 2, 4, 4, 1, 1, 4, 4, 4, 4, 4, 4, 4, 4, 5, 4, 0, 3, 2, 1, 1, 3, 6, 3, 4, 1, 4, 4, 1, 4, 4, 4, 2, 4, 3, 4, 4, 1, 1, 1, 4, 4, 4, 4, 4, 4, 4, 3, 4, 6, 3, 4, 1, 4, 4, 1, 4, 0, 0, 4, 0, 4, 4, 4, 0, 1, 1, 4, 1, 0, 0, 4, 4, 2, 4, 1, 4, 0, 4, 0, 1, 1, 4, 4, 4, 0, 4, 4, 3, 4, 4, 6, 1, 1, 1, 1, 2, 2, 0, 4, 4, 4, 4, 4, 0, 4, 4, 4, 4, 4, 2, 6, 0, 4, 4, 4, 0, 5, 0, 3, 0, 3, 3, 4, 4, 4, 4, 0, 1, 1, 4, 1, 4, 4, 3, 1, 1, 1, 1, 1, 1, 1, 1, 5, 4, 1, 1, 4, 4, 4, 4, 0, 1, 4, 0, 4, 4, 4, 4, 4, 4, 4, 4, 1, 4, 4, 4, 4, 4, 4, 4, 4, 4, 0, 4, 0, 4, 4, 4, 4, 4, 4, 3, 4, 3, 4, 1, 1, 2, 2, 4, 4, 4, 4, 4, 4, 0, 0, 0, 4, 4, 4, 4, 4, 4, 3, 4, 3, 4, 4, 1, 1, 6, 1, 1, 4, 4, 1, 4, 4, 0, 4, 4, 4, 4, 1, 4, 4, 0, 1, 3, 2, 4, 2, 1, 1, 2, 4, 3, 1, 1, 6, 1, 4, 4, 4, 4, 4, 6, 0, 3, 4, 4, 0, 0, 4, 3, 0, 4, 6, 1, 4, 4, 1, 4, 2, 0, 4, 4, 3, 2, 0, 4, 3, 4, 4, 0, 4, 1, 3, 2, 2, 2, 4, 0, 4, 4, 0, 0, 6, 2, 2, 4, 4, 1, 4, 4, 4, 4, 4, 4, 4, 4, 3, 4, 4, 3, 0, 4, 3, 0, 0, 0, 0, 4, 5, 4, 0, 3, 4, 3, 1, 4, 0, 0, 1, 4, 4, 4, 4, 3, 4, 3, 4, 4, 4, 4, 4, 0, 4, 6, 0, 4, 1, 6, 4, 1, 0, 0, 4, 0, 4, 4, 4, 4, 4, 4, 5, 4, 3, 1, 4, 4, 3, 1, 1, 1, 1, 1, 1, 4, 4, 4, 4, 4, 4, 4, 4, 4, 4, 5, 5, 4, 4, 2, 4, 1, 4, 0, 4, 4, 2, 3, 3, 4, 3, 1, 2, 3]\n"
          ],
          "name": "stdout"
        }
      ]
    },
    {
      "cell_type": "code",
      "metadata": {
        "id": "Cl7nwAdF5jKB"
      },
      "source": [
        "import keras\n",
        "import numpy as np\n",
        "from keras.datasets import mnist\n",
        "from keras.models import Sequential\n",
        "from keras.layers import CuDNNLSTM, Dense, Dropout, LSTM\n",
        "from keras.optimizers import Adam\n",
        "from sklearn.preprocessing import MinMaxScaler\n",
        "\n",
        "x_train_np = np.asarray(x_train)\n",
        "y_train_np = np.asarray(y_train)\n",
        "x_test_np = np.asarray(x_test)\n",
        "y_test_np = np.asarray(y_test)"
      ],
      "execution_count": null,
      "outputs": []
    },
    {
      "cell_type": "code",
      "metadata": {
        "id": "sajIFwQiPlup",
        "colab": {
          "base_uri": "https://localhost:8080/",
          "height": 286
        },
        "outputId": "43f045e3-b559-4ad0-a993-354ceff0d584"
      },
      "source": [
        "classifier = Sequential()\n",
        "classifier.add(LSTM(500, input_shape=(2048,1), return_sequences=True))\n",
        "classifier.add(Dropout(0.2))\n",
        "#classifier.add(LSTM(128))\n",
        "classifier.add(Dense(64, activation='relu'))\n",
        "#classifier.add(Dropout(0.2))\n",
        "classifier.add(Dense(7, activation='softmax'))\n",
        "classifier.summary()"
      ],
      "execution_count": null,
      "outputs": [
        {
          "output_type": "stream",
          "text": [
            "Model: \"sequential_9\"\n",
            "_________________________________________________________________\n",
            "Layer (type)                 Output Shape              Param #   \n",
            "=================================================================\n",
            "lstm_9 (LSTM)                (None, 2048, 500)         1004000   \n",
            "_________________________________________________________________\n",
            "dropout_8 (Dropout)          (None, 2048, 500)         0         \n",
            "_________________________________________________________________\n",
            "dense_15 (Dense)             (None, 2048, 64)          32064     \n",
            "_________________________________________________________________\n",
            "dense_16 (Dense)             (None, 2048, 7)           455       \n",
            "=================================================================\n",
            "Total params: 1,036,519\n",
            "Trainable params: 1,036,519\n",
            "Non-trainable params: 0\n",
            "_________________________________________________________________\n"
          ],
          "name": "stdout"
        }
      ]
    },
    {
      "cell_type": "code",
      "metadata": {
        "id": "idu1pr7uQhba"
      },
      "source": [
        "classifier.compile( loss='sparse_categorical_crossentropy',\n",
        "              optimizer=Adam(lr=0.001, decay=1e-6),\n",
        "              metrics=['accuracy'] )"
      ],
      "execution_count": null,
      "outputs": []
    },
    {
      "cell_type": "code",
      "metadata": {
        "id": "SC9XpPD9RB-C",
        "colab": {
          "base_uri": "https://localhost:8080/",
          "height": 374
        },
        "outputId": "733be77c-3abc-4f56-a1ca-4ca2e804c819"
      },
      "source": [
        "classifier.fit(x_train_np,\n",
        "         y_train_np,\n",
        "          epochs=10)\n",
        "      "
      ],
      "execution_count": null,
      "outputs": [
        {
          "output_type": "error",
          "ename": "ValueError",
          "evalue": "ignored",
          "traceback": [
            "\u001b[0;31m---------------------------------------------------------------------------\u001b[0m",
            "\u001b[0;31mValueError\u001b[0m                                Traceback (most recent call last)",
            "\u001b[0;32m<ipython-input-26-6db4a580522f>\u001b[0m in \u001b[0;36m<module>\u001b[0;34m()\u001b[0m\n\u001b[1;32m      1\u001b[0m classifier.fit(x_train_np,\n\u001b[1;32m      2\u001b[0m          \u001b[0my_train_np\u001b[0m\u001b[0;34m,\u001b[0m\u001b[0;34m\u001b[0m\u001b[0;34m\u001b[0m\u001b[0m\n\u001b[0;32m----> 3\u001b[0;31m           epochs=10)\n\u001b[0m\u001b[1;32m      4\u001b[0m \u001b[0;34m\u001b[0m\u001b[0m\n",
            "\u001b[0;32m/usr/local/lib/python3.6/dist-packages/keras/engine/training.py\u001b[0m in \u001b[0;36mfit\u001b[0;34m(self, x, y, batch_size, epochs, verbose, callbacks, validation_split, validation_data, shuffle, class_weight, sample_weight, initial_epoch, steps_per_epoch, validation_steps, validation_freq, max_queue_size, workers, use_multiprocessing, **kwargs)\u001b[0m\n\u001b[1;32m   1152\u001b[0m             \u001b[0msample_weight\u001b[0m\u001b[0;34m=\u001b[0m\u001b[0msample_weight\u001b[0m\u001b[0;34m,\u001b[0m\u001b[0;34m\u001b[0m\u001b[0;34m\u001b[0m\u001b[0m\n\u001b[1;32m   1153\u001b[0m             \u001b[0mclass_weight\u001b[0m\u001b[0;34m=\u001b[0m\u001b[0mclass_weight\u001b[0m\u001b[0;34m,\u001b[0m\u001b[0;34m\u001b[0m\u001b[0;34m\u001b[0m\u001b[0m\n\u001b[0;32m-> 1154\u001b[0;31m             batch_size=batch_size)\n\u001b[0m\u001b[1;32m   1155\u001b[0m \u001b[0;34m\u001b[0m\u001b[0m\n\u001b[1;32m   1156\u001b[0m         \u001b[0;31m# Prepare validation data.\u001b[0m\u001b[0;34m\u001b[0m\u001b[0;34m\u001b[0m\u001b[0;34m\u001b[0m\u001b[0m\n",
            "\u001b[0;32m/usr/local/lib/python3.6/dist-packages/keras/engine/training.py\u001b[0m in \u001b[0;36m_standardize_user_data\u001b[0;34m(self, x, y, sample_weight, class_weight, check_array_lengths, batch_size)\u001b[0m\n\u001b[1;32m    577\u001b[0m             \u001b[0mfeed_input_shapes\u001b[0m\u001b[0;34m,\u001b[0m\u001b[0;34m\u001b[0m\u001b[0;34m\u001b[0m\u001b[0m\n\u001b[1;32m    578\u001b[0m             \u001b[0mcheck_batch_axis\u001b[0m\u001b[0;34m=\u001b[0m\u001b[0;32mFalse\u001b[0m\u001b[0;34m,\u001b[0m  \u001b[0;31m# Don't enforce the batch size.\u001b[0m\u001b[0;34m\u001b[0m\u001b[0;34m\u001b[0m\u001b[0m\n\u001b[0;32m--> 579\u001b[0;31m             exception_prefix='input')\n\u001b[0m\u001b[1;32m    580\u001b[0m \u001b[0;34m\u001b[0m\u001b[0m\n\u001b[1;32m    581\u001b[0m         \u001b[0;32mif\u001b[0m \u001b[0my\u001b[0m \u001b[0;32mis\u001b[0m \u001b[0;32mnot\u001b[0m \u001b[0;32mNone\u001b[0m\u001b[0;34m:\u001b[0m\u001b[0;34m\u001b[0m\u001b[0;34m\u001b[0m\u001b[0m\n",
            "\u001b[0;32m/usr/local/lib/python3.6/dist-packages/keras/engine/training_utils.py\u001b[0m in \u001b[0;36mstandardize_input_data\u001b[0;34m(data, names, shapes, check_batch_axis, exception_prefix)\u001b[0m\n\u001b[1;32m    143\u001b[0m                             \u001b[0;34m': expected '\u001b[0m \u001b[0;34m+\u001b[0m \u001b[0mnames\u001b[0m\u001b[0;34m[\u001b[0m\u001b[0mi\u001b[0m\u001b[0;34m]\u001b[0m \u001b[0;34m+\u001b[0m \u001b[0;34m' to have shape '\u001b[0m \u001b[0;34m+\u001b[0m\u001b[0;34m\u001b[0m\u001b[0;34m\u001b[0m\u001b[0m\n\u001b[1;32m    144\u001b[0m                             \u001b[0mstr\u001b[0m\u001b[0;34m(\u001b[0m\u001b[0mshape\u001b[0m\u001b[0;34m)\u001b[0m \u001b[0;34m+\u001b[0m \u001b[0;34m' but got array with shape '\u001b[0m \u001b[0;34m+\u001b[0m\u001b[0;34m\u001b[0m\u001b[0;34m\u001b[0m\u001b[0m\n\u001b[0;32m--> 145\u001b[0;31m                             str(data_shape))\n\u001b[0m\u001b[1;32m    146\u001b[0m     \u001b[0;32mreturn\u001b[0m \u001b[0mdata\u001b[0m\u001b[0;34m\u001b[0m\u001b[0;34m\u001b[0m\u001b[0m\n\u001b[1;32m    147\u001b[0m \u001b[0;34m\u001b[0m\u001b[0m\n",
            "\u001b[0;31mValueError\u001b[0m: Error when checking input: expected lstm_9_input to have shape (2048, 1) but got array with shape (1, 2048)"
          ]
        }
      ]
    },
    {
      "cell_type": "code",
      "metadata": {
        "id": "AUpKI2n8XeDF",
        "colab": {
          "base_uri": "https://localhost:8080/",
          "height": 34
        },
        "outputId": "39a11873-584d-4f3a-ad65-093671d90eef"
      },
      "source": [
        "from sklearn.preprocessing import OneHotEncoder\n",
        "onehot = OneHotEncoder()\n",
        "y_test_oh = onehot.fit_transform(integer_encoded)\n",
        "y_test_np.shape"
      ],
      "execution_count": null,
      "outputs": [
        {
          "output_type": "execute_result",
          "data": {
            "text/plain": [
              "(478,)"
            ]
          },
          "metadata": {
            "tags": []
          },
          "execution_count": 52
        }
      ]
    },
    {
      "cell_type": "code",
      "metadata": {
        "id": "A5XIwZflZPni",
        "colab": {
          "base_uri": "https://localhost:8080/",
          "height": 151
        },
        "outputId": "7e3fd1cf-0986-4e4e-d78f-bd1d31668f23"
      },
      "source": [
        "#y_test_np.shape\n",
        "#y_test_np.reshape(1,len(y_test_np))\n",
        "from numpy import array\n",
        "from numpy import argmax\n",
        "from sklearn.preprocessing import LabelEncoder\n",
        "from sklearn.preprocessing import OneHotEncoder\n",
        "# define example\n",
        "data = ['cold', 'cold', 'warm', 'cold', 'hot', 'hot', 'warm', 'cold', 'warm', 'hot']\n",
        "values = array(data)\n",
        "#print(values)\n",
        "# integer encode\n",
        "label_encoder = LabelEncoder()\n",
        "integer_encoded = label_encoder.fit_transform(values)\n",
        "#print(integer_encoded.shape)\n",
        "#print(integer_encoded)\n",
        "# binary encode\n",
        "integer_encoded = y_train_np\n",
        "onehot_encoder = OneHotEncoder(sparse=False)\n",
        "integer_encoded = integer_encoded.reshape(len(integer_encoded), 1)\n",
        "print(integer_encoded.shape)\n",
        "y_train_encoded = onehot_encoder.fit_transform(integer_encoded)\n",
        "print(y _train_encoded)"
      ],
      "execution_count": null,
      "outputs": [
        {
          "output_type": "stream",
          "text": [
            "(2132, 1)\n",
            "[[0. 0. 0. ... 0. 0. 0.]\n",
            " [0. 1. 0. ... 0. 0. 0.]\n",
            " [0. 0. 0. ... 1. 0. 0.]\n",
            " ...\n",
            " [0. 1. 0. ... 0. 0. 0.]\n",
            " [0. 0. 1. ... 0. 0. 0.]\n",
            " [0. 0. 1. ... 0. 0. 0.]]\n"
          ],
          "name": "stdout"
        }
      ]
    },
    {
      "cell_type": "code",
      "metadata": {
        "id": "lIlIy92GiHPh",
        "colab": {
          "base_uri": "https://localhost:8080/",
          "height": 34
        },
        "outputId": "f7d2e019-e137-44a9-bb7c-97cacfaf2243"
      },
      "source": [
        "y_test_encoded.shape"
      ],
      "execution_count": null,
      "outputs": [
        {
          "output_type": "execute_result",
          "data": {
            "text/plain": [
              "(478, 7)"
            ]
          },
          "metadata": {
            "tags": []
          },
          "execution_count": 61
        }
      ]
    }
  ]
}