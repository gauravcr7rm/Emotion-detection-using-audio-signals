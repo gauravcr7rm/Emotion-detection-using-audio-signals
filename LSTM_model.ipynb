{
  "nbformat": 4,
  "nbformat_minor": 0,
  "metadata": {
    "colab": {
      "name": "Lstm_model.ipynb",
      "provenance": [],
      "collapsed_sections": [],
      "toc_visible": true,
      "include_colab_link": true
    },
    "kernelspec": {
      "name": "python3",
      "display_name": "Python 3"
    }
  },
  "cells": [
    {
      "cell_type": "markdown",
      "metadata": {
        "id": "view-in-github",
        "colab_type": "text"
      },
      "source": [
        "<a href=\"https://colab.research.google.com/github/gauravcr7rm/Emotion-detection-using-audio-signals/blob/main/LSTM_model.ipynb\" target=\"_parent\"><img src=\"https://colab.research.google.com/assets/colab-badge.svg\" alt=\"Open In Colab\"/></a>"
      ]
    },
    {
      "cell_type": "code",
      "metadata": {
        "id": "QA4_UUGtEH3g"
      },
      "source": [
        "import keras\n",
        "import numpy as np\n",
        "import pandas as pd\n",
        "from keras.models import Sequential\n",
        "from keras.layers import CuDNNLSTM, Dense, Dropout, LSTM, Flatten\n",
        "from keras.optimizers import Adam\n",
        "from sklearn.preprocessing import MinMaxScaler"
      ],
      "execution_count": null,
      "outputs": []
    },
    {
      "cell_type": "code",
      "metadata": {
        "id": "QL75PtGi_vUe",
        "colab": {
          "base_uri": "https://localhost:8080/",
          "height": 286
        },
        "outputId": "b2a43ca3-1200-451c-85f1-b5127be64d9e"
      },
      "source": [
        "import os\n",
        "import pandas as pd\n",
        "import numpy as np\n",
        "os.chdir('/content/drive/My Drive/spectroimage_folder')\n",
        "! ls"
      ],
      "execution_count": null,
      "outputs": [
        {
          "output_type": "stream",
          "text": [
            " data_creator_2.ipynb   x_test_eight.pkl    y_test_4.pkl\n",
            " data_creator.ipynb     x_test_new.pkl\t    y_test_5.pkl\n",
            " Disgust\t        x_test.pkl\t    y_test_eight.pkl\n",
            " Fear\t\t        x_test_three.pkl    y_test_new.pkl\n",
            "'image folder'\t        x_test_two.pkl\t    y_test.pkl\n",
            " Joy\t\t        x_train_2.pkl\t    y_test_three.pkl\n",
            " Neutral\t        x_train_3.pkl\t    y_test_two.pkl\n",
            " pickle_folder\t        x_train_4.pkl\t    y_train_2.pkl\n",
            " Sadness\t        x_train_5.pkl\t    y_train_3.pkl\n",
            " Surprise\t        x_train_eight.pkl   y_train_4.pkl\n",
            " test_sent_emo.csv      x_train_new.pkl     y_train_5.pkl\n",
            "'Untitled Folder'       x_train.pkl\t    y_train_eight.pkl\n",
            " x_test_2.pkl\t        x_train_three.pkl   y_train_new.pkl\n",
            " x_test_3.pkl\t        x_train_two.pkl     y_train.pkl\n",
            " x_test_4.pkl\t        y_test_2.pkl\t    y_train_three.pkl\n",
            " x_test_5.pkl\t        y_test_3.pkl\t    y_train_two.pkl\n"
          ],
          "name": "stdout"
        }
      ]
    },
    {
      "cell_type": "code",
      "metadata": {
        "id": "3pybTZkAMOO6"
      },
      "source": [
        "import pickle \n",
        "X_train = pickle.load(open('/content/drive/My Drive/spectroimage_folder/x_train_two.pkl','rb'))\n",
        "X_test = pickle.load(open('/content/drive/My Drive/spectroimage_folder/x_test_two.pkl','rb'))\n",
        "Y_train = pickle.load(open('/content/drive/My Drive/spectroimage_folder/y_train_two.pkl','rb'))\n",
        "Y_test = pickle.load(open('/content/drive/My Drive/spectroimage_folder/y_test_two.pkl','rb'))"
      ],
      "execution_count": null,
      "outputs": []
    },
    {
      "cell_type": "code",
      "metadata": {
        "id": "qKf67SGI6OoD",
        "colab": {
          "base_uri": "https://localhost:8080/",
          "height": 121
        },
        "outputId": "23ab5f5f-28e0-4048-f545-90f45f29198d"
      },
      "source": [
        "from google.colab import drive\n",
        "drive.mount('/content/drive')"
      ],
      "execution_count": null,
      "outputs": [
        {
          "output_type": "stream",
          "text": [
            "Go to this URL in a browser: https://accounts.google.com/o/oauth2/auth?client_id=947318989803-6bn6qk8qdgf4n4g3pfee6491hc0brc4i.apps.googleusercontent.com&redirect_uri=urn%3aietf%3awg%3aoauth%3a2.0%3aoob&response_type=code&scope=email%20https%3a%2f%2fwww.googleapis.com%2fauth%2fdocs.test%20https%3a%2f%2fwww.googleapis.com%2fauth%2fdrive%20https%3a%2f%2fwww.googleapis.com%2fauth%2fdrive.photos.readonly%20https%3a%2f%2fwww.googleapis.com%2fauth%2fpeopleapi.readonly\n",
            "\n",
            "Enter your authorization code:\n",
            "··········\n",
            "Mounted at /content/drive\n"
          ],
          "name": "stdout"
        }
      ]
    },
    {
      "cell_type": "code",
      "metadata": {
        "id": "qvswYumMVUEd"
      },
      "source": [
        "Y_train = pickle.load(open('/gdrive/My Drive/spectroimage_folder/y_train.pkl','rb'))"
      ],
      "execution_count": null,
      "outputs": []
    },
    {
      "cell_type": "code",
      "metadata": {
        "id": "XYDYv2JOVJWC",
        "colab": {
          "base_uri": "https://localhost:8080/",
          "height": 34
        },
        "outputId": "7ee85f8d-bbc1-4461-bf42-d4efac1366a6"
      },
      "source": [
        "X_train = np.array(X_train)\n",
        "X_test = np.array(X_test)\n",
        "Y_train = np.array(Y_train)\n",
        "Y_test = np.array(Y_test)\n",
        "Y_train.shape"
      ],
      "execution_count": null,
      "outputs": [
        {
          "output_type": "execute_result",
          "data": {
            "text/plain": [
              "(2311, 1)"
            ]
          },
          "metadata": {
            "tags": []
          },
          "execution_count": 21
        }
      ]
    },
    {
      "cell_type": "code",
      "metadata": {
        "id": "7U-JVeX8XaV2",
        "colab": {
          "base_uri": "https://localhost:8080/",
          "height": 34
        },
        "outputId": "05adb49e-a227-4a65-bb81-99bcd82043d2"
      },
      "source": [
        "print(np.unique(Y_test))"
      ],
      "execution_count": null,
      "outputs": [
        {
          "output_type": "stream",
          "text": [
            "[1 2 3 4 5 6 7]\n"
          ],
          "name": "stdout"
        }
      ]
    },
    {
      "cell_type": "code",
      "metadata": {
        "id": "kc88jHMJONzl"
      },
      "source": [
        "y = np.zeros(2311)\n",
        "for i in range(2311):\n",
        "  y[i] = Y_train[i][0]"
      ],
      "execution_count": null,
      "outputs": []
    },
    {
      "cell_type": "code",
      "metadata": {
        "id": "b_aapLrZOl4O"
      },
      "source": [
        "y.shape"
      ],
      "execution_count": null,
      "outputs": []
    },
    {
      "cell_type": "code",
      "metadata": {
        "id": "s0F6cIecV_8a"
      },
      "source": [
        "for i in range(2311):\n",
        "  Y_train[i] = Y_train[i]-1\n",
        "  #counts[Y_train[i][0]] = counts[Y_train[i][0]] + 1\n",
        "for i in range(284):\n",
        "  Y_test[i] = Y_test[i]-1\n",
        "  #counts[Y_train[i][0]] = counts[Y_train[i][0]] + 1"
      ],
      "execution_count": null,
      "outputs": []
    },
    {
      "cell_type": "code",
      "metadata": {
        "id": "wz3CyBiAZo9z"
      },
      "source": [
        "#weights = {0:100, 1:100, 2:200, 3:150, 4:10, 5:400, 6:400}\n",
        "from sklearn.utils import class_weight\n",
        "class_weights = class_weight.compute_class_weight('balanced',\n",
        "                                                 np.unique(y),\n",
        "                                                 y)"
      ],
      "execution_count": null,
      "outputs": []
    },
    {
      "cell_type": "code",
      "metadata": {
        "id": "jrT_HQHSXKHV"
      },
      "source": [
        "class_weights"
      ],
      "execution_count": null,
      "outputs": []
    },
    {
      "cell_type": "code",
      "metadata": {
        "id": "3ZZcDvyFVjyF",
        "colab": {
          "base_uri": "https://localhost:8080/",
          "height": 34
        },
        "outputId": "366d8041-22ac-45e4-d65d-e2c69f7cc24f"
      },
      "source": [
        "from keras.utils import to_categorical\n",
        "y_train, y_test = to_categorical(Y_train), to_categorical(Y_test)\n",
        "y_train.shape"
      ],
      "execution_count": null,
      "outputs": [
        {
          "output_type": "execute_result",
          "data": {
            "text/plain": [
              "(2311, 7)"
            ]
          },
          "metadata": {
            "tags": []
          },
          "execution_count": 26
        }
      ]
    },
    {
      "cell_type": "code",
      "metadata": {
        "id": "sPZ9bMqrVs9e",
        "colab": {
          "base_uri": "https://localhost:8080/",
          "height": 50
        },
        "outputId": "e863a34b-0fba-4682-853e-bb14f87df936"
      },
      "source": [
        "#y_train.shape, X_test.shape\n",
        "class_weights"
      ],
      "execution_count": null,
      "outputs": [
        {
          "output_type": "execute_result",
          "data": {
            "text/plain": [
              "array([0.92736758, 1.07189239, 1.69304029, 1.3530445 , 0.30040296,\n",
              "       7.02431611, 5.32488479])"
            ]
          },
          "metadata": {
            "tags": []
          },
          "execution_count": 12
        }
      ]
    },
    {
      "cell_type": "code",
      "metadata": {
        "id": "AbXy5LHjYF3F"
      },
      "source": [
        "label_dicts = {0:0.92736758, 1:1.07189239, 2:1.69304029, 3:1.3530445, 4:0.30040296, 5:7.02431611, 6:5.32488479}"
      ],
      "execution_count": null,
      "outputs": []
    },
    {
      "cell_type": "code",
      "metadata": {
        "id": "uDPBAQ1RQm_a"
      },
      "source": [
        "import math\n",
        "def create_class_weight(labels_dict,mu=0.15):\n",
        "    total = np.sum(labels_dict.values())\n",
        "    keys = labels_dict.keys()\n",
        "    class_weight = dict()\n",
        "\n",
        "    for key in keys:\n",
        "        score = math.log(mu*total/float(labels_dict[key]))\n",
        "        class_weight[key] = score if score > 1.0 else 1.0\n",
        "\n",
        "    return class_weight\n"
      ],
      "execution_count": null,
      "outputs": []
    },
    {
      "cell_type": "code",
      "metadata": {
        "id": "zyVFMlpCQuK8"
      },
      "source": [
        "class_weis = create_class_weight(label_dicts)"
      ],
      "execution_count": null,
      "outputs": []
    },
    {
      "cell_type": "code",
      "metadata": {
        "id": "8NQiTks2P69c"
      },
      "source": [
        "classifier = Sequential()\n",
        "classifier.add(LSTM(500, input_shape=(1, 2048), return_sequences=True))\n",
        "classifier.add(Dropout(0.2))\n",
        "classifier.add(Dense(64, activation='relu'))\n",
        "classifier.add(Dropout(0.2))\n",
        "classifier.add(Dense(7, activation='softmax'))\n"
      ],
      "execution_count": null,
      "outputs": []
    },
    {
      "cell_type": "code",
      "metadata": {
        "id": "aEyo46x5a8w7"
      },
      "source": [
        "model.compile(loss='categorical_crossentropy',\n",
        "              optimizer=Adam(lr=1e-4, decay=1e-6),\n",
        "              metrics=[\"accuracy\"], class_weights = weights)"
      ],
      "execution_count": null,
      "outputs": []
    },
    {
      "cell_type": "code",
      "metadata": {
        "id": "D1g3oZh8bOVe"
      },
      "source": [
        "model.fit(X_train, y_train, epochs = 300, validation_split=0.2)"
      ],
      "execution_count": null,
      "outputs": []
    },
    {
      "cell_type": "code",
      "metadata": {
        "id": "WymZ7ZX5KokG"
      },
      "source": [
        "import tensorflow as tf\n",
        "model = tf.keras.models.Sequential([\n",
        "  tf.keras.layers.Bidirectional(tf.keras.layers.GRU(300, input_shape=(2,2048),return_sequences=True)),\n",
        "  tf.keras.layers.Bidirectional(tf.keras.layers.GRU(200, return_sequences = True)),\n",
        "  tf.keras.layers.Bidirectional(tf.keras.layers.GRU(32)),\n",
        "  tf.keras.layers.Dropout(0.2),\n",
        "  tf.keras.layers.Dense(64, activation = 'relu'),\n",
        "  tf.keras.layers.Dropout(0.2),\n",
        "  tf.keras.layers.Dense(32, activation = 'relu'),\n",
        "  tf.keras.layers.Dropout(0.2),\n",
        "  tf.keras.layers.Dense(7, activation = 'softmax'),\n",
        "  tf.keras.layers.Flatten()\n",
        "])"
      ],
      "execution_count": null,
      "outputs": []
    },
    {
      "cell_type": "code",
      "metadata": {
        "id": "Yw1BZSbL8lr9"
      },
      "source": [
        "from keras.layers import Input, LSTM, Dense, TimeDistributed, Masking, Dropout, Bidirectional\n",
        "from keras.models import Model\n",
        "input_data = Input(shape=(2,2048))\n",
        "lstm = Bidirectional(LSTM(300, activation='tanh', return_sequences = True, dropout=0.6))(input_data)\n",
        "lstm2 = Bidirectional(LSTM(200, activation='tanh', return_sequences = True, dropout=0.6))(lstm)\n",
        "lstm3 = Bidirectional(LSTM(300, activation='tanh', dropout=0.6))(lstm2)\n",
        "inter = Dropout(0.9)(lstm3)\n",
        "inter1 = Dense(100,activation='tanh')(inter)\n",
        "inter = Dropout(0.9)(inter1)\n",
        "output = Dense(7,activation='softmax')(inter)\n",
        "model1 = Model(input_data, output)\n",
        "aux = Model(input_data, inter1)\n"
      ],
      "execution_count": null,
      "outputs": []
    },
    {
      "cell_type": "code",
      "metadata": {
        "id": "3XMXFzEGPcsH",
        "colab": {
          "base_uri": "https://localhost:8080/",
          "height": 370
        },
        "outputId": "08eca42e-d148-44cd-cdee-782a33f4aca6"
      },
      "source": [
        "lr_schedule = tf.keras.callbacks.LearningRateScheduler(\n",
        "    lambda epoch: 1e-8 * 10**(epoch / 10))\n",
        "optimizer = tf.keras.optimizers.Adam( lr=1e-4, beta_1=0.9, beta_2=0.999, epsilon=1e-08, decay=0.0)\n",
        "model1.compile(loss='categorical_crossentropy',\n",
        "              optimizer=optimizer,\n",
        "              metrics=[\"accuracy\"])\n",
        "#model.summary()\n",
        "history = model1.fit(X_train, y_train,epochs = 200, class_weight = label_dicts, validation_split = 0.2)"
      ],
      "execution_count": null,
      "outputs": [
        {
          "output_type": "stream",
          "text": [
            "Train on 1848 samples, validate on 463 samples\n",
            "Epoch 1/200\n",
            "1848/1848 [==============================] - 14s 7ms/step - loss: 2.2136 - accuracy: 0.1640 - val_loss: 1.8953 - val_accuracy: 0.1123\n",
            "Epoch 2/200\n",
            "1848/1848 [==============================] - 10s 5ms/step - loss: 2.1243 - accuracy: 0.1456 - val_loss: 1.8946 - val_accuracy: 0.1123\n",
            "Epoch 3/200\n",
            "1848/1848 [==============================] - 10s 5ms/step - loss: 2.0969 - accuracy: 0.1694 - val_loss: 1.8953 - val_accuracy: 0.1123\n",
            "Epoch 4/200\n",
            "1848/1848 [==============================] - 10s 5ms/step - loss: 2.0881 - accuracy: 0.1553 - val_loss: 1.8950 - val_accuracy: 0.1145\n",
            "Epoch 5/200\n",
            "1848/1848 [==============================] - 10s 5ms/step - loss: 2.1160 - accuracy: 0.1466 - val_loss: 1.8950 - val_accuracy: 0.1210\n",
            "Epoch 6/200\n",
            "1848/1848 [==============================] - 9s 5ms/step - loss: 2.0925 - accuracy: 0.1602 - val_loss: 1.8959 - val_accuracy: 0.1123\n",
            "Epoch 7/200\n",
            "1848/1848 [==============================] - 10s 5ms/step - loss: 2.0484 - accuracy: 0.1450 - val_loss: 1.8967 - val_accuracy: 0.1145\n",
            "Epoch 8/200\n",
            "1848/1848 [==============================] - 10s 5ms/step - loss: 2.0572 - accuracy: 0.1434 - val_loss: 1.8965 - val_accuracy: 0.1145\n",
            "Epoch 9/200\n",
            "1848/1848 [==============================] - 10s 5ms/step - loss: 2.0783 - accuracy: 0.1402 - val_loss: 1.8968 - val_accuracy: 0.1145\n",
            "Epoch 10/200\n",
            "1760/1848 [===========================>..] - ETA: 0s - loss: 2.0285 - accuracy: 0.1528"
          ],
          "name": "stdout"
        }
      ]
    },
    {
      "cell_type": "code",
      "metadata": {
        "id": "9Z14Bv7tP6hX",
        "colab": {
          "base_uri": "https://localhost:8080/",
          "height": 290
        },
        "outputId": "b14a200a-88d7-4698-b2d2-b29a2b5cc9e9"
      },
      "source": [
        "import matplotlib.pyplot as plt\n",
        "plt.semilogx(history.history[\"lr\"], history.history[\"loss\"])\n",
        "plt.axis([1e-8, 100, 1, 14000])"
      ],
      "execution_count": null,
      "outputs": [
        {
          "output_type": "execute_result",
          "data": {
            "text/plain": [
              "(1e-08, 100.0, 1.0, 14000.0)"
            ]
          },
          "metadata": {
            "tags": []
          },
          "execution_count": 37
        },
        {
          "output_type": "display_data",
          "data": {
            "image/png": "[encoded data removed]",
            "text/plain": [
              "<Figure size 432x288 with 1 Axes>"
            ]
          },
          "metadata": {
            "tags": [],
            "needs_background": "light"
          }
        }
      ]
    },
    {
      "cell_type": "code",
      "metadata": {
        "id": "-sYG8TpOjup9"
      },
      "source": [
        "optimizer = tf.keras.optimizers.Adam(lr=5e-3, decay=1e-6)\n",
        "model.compile(loss='categorical_crossentropy',\n",
        "              optimizer=optimizer,\n",
        "              metrics=[\"accuracy\"])\n",
        "history = model.fit(X_train, y_train,epochs=100, callbacks=[lr_schedule])"
      ],
      "execution_count": null,
      "outputs": []
    },
    {
      "cell_type": "code",
      "metadata": {
        "id": "AjidB9j2P8YH"
      },
      "source": [
        " classifier.compile( loss='categorical_crossentropy',\n",
        "               optimizer=Adam(lr=0.001, decay=1e-6),\n",
        "               metrics=['accuracy'] )"
      ],
      "execution_count": null,
      "outputs": []
    },
    {
      "cell_type": "code",
      "metadata": {
        "id": "xlFarYh0P_p5"
      },
      "source": [
        "classifier.fit(X_train,y_train,\n",
        "           epochs=100,\n",
        "           validation_split = 0.2)"
      ],
      "execution_count": null,
      "outputs": []
    },
    {
      "cell_type": "code",
      "metadata": {
        "id": "6xcJoNZJLnt1",
        "colab": {
          "base_uri": "https://localhost:8080/",
          "height": 34
        },
        "outputId": "83b7d069-600a-460e-9a17-5fb8103292c8"
      },
      "source": [
        "score, acc = model.evaluate(X_test, y_test, verbose = 1)"
      ],
      "execution_count": null,
      "outputs": [
        {
          "output_type": "stream",
          "text": [
            "9/9 [==============================] - 0s 26ms/step - loss: 3.6161 - accuracy: 0.4049\n"
          ],
          "name": "stdout"
        }
      ]
    },
    {
      "cell_type": "code",
      "metadata": {
        "id": "7fs_NaMyL2hp"
      },
      "source": [
        "pred = model.predict(X_test)"
      ],
      "execution_count": null,
      "outputs": []
    },
    {
      "cell_type": "code",
      "metadata": {
        "id": "AGToQ1erMJVg",
        "colab": {
          "base_uri": "https://localhost:8080/",
          "height": 34
        },
        "outputId": "e6feddde-9d96-4cf4-81c7-3f27764eba19"
      },
      "source": [
        "acc"
      ],
      "execution_count": null,
      "outputs": [
        {
          "output_type": "execute_result",
          "data": {
            "text/plain": [
              "0.16108787059783936"
            ]
          },
          "metadata": {
            "tags": []
          },
          "execution_count": 18
        }
      ]
    },
    {
      "cell_type": "code",
      "metadata": {
        "id": "C9NVlTyGNKVw",
        "colab": {
          "base_uri": "https://localhost:8080/",
          "height": 34
        },
        "outputId": "6a0dc1c4-253d-4875-d49b-4e0235ceca40"
      },
      "source": [
        "tot_sum = 0\n",
        "for i in range(478):\n",
        "  tot_sum += np.sum((pred[i]==y_test[i])*1)\n",
        "print(tot_sum)\n"
      ],
      "execution_count": null,
      "outputs": [
        {
          "output_type": "stream",
          "text": [
            "0\n"
          ],
          "name": "stdout"
        }
      ]
    },
    {
      "cell_type": "code",
      "metadata": {
        "id": "F-8zifDrMw13",
        "colab": {
          "base_uri": "https://localhost:8080/",
          "height": 34
        },
        "outputId": "40ada91c-b5af-4d3e-c7dc-c65eea897ef6"
      },
      "source": [
        "classes = [0]*7\n",
        "predi = [0]*7\n",
        "import numpy as np\n",
        "valid = 0\n",
        "for i in range(284):\n",
        "  result = np.where(pred[i] == np.amax(pred[i]))\n",
        "  for j in range(7):\n",
        "    if y_test[i][j] == 1:\n",
        "      result2 = j\n",
        "      break\n",
        "  if result[0] == result2:\n",
        "    valid = valid + 1\n",
        "    predi[result2] = predi[result2]+1\n",
        "  classes[result2] = classes[result2] + 1\n",
        "\n",
        "print(classes,predi)\n",
        "\n"
      ],
      "execution_count": null,
      "outputs": [
        {
          "output_type": "stream",
          "text": [
            "[43, 34, 13, 35, 150, 3, 6] [3, 3, 0, 0, 109, 0, 0]\n"
          ],
          "name": "stdout"
        }
      ]
    },
    {
      "cell_type": "code",
      "metadata": {
        "id": "4q5tK-YstgiZ"
      },
      "source": [
        "import numpy as np\n",
        "valid = 0\n",
        "for i in range(284):\n",
        "  result = np.where(pred[i] == np.amax(pred[i]))\n",
        "  for j in range(7):\n",
        "    if y_test[i][j] == 1:\n",
        "      result2 = j\n",
        "      break\n",
        "  if result[0] == result2:\n",
        "    valid = valid + 1\n",
        "  print(result[0],result2)\n"
      ],
      "execution_count": null,
      "outputs": []
    },
    {
      "cell_type": "code",
      "metadata": {
        "id": "PxHfP9iYzGvJ",
        "colab": {
          "base_uri": "https://localhost:8080/",
          "height": 34
        },
        "outputId": "41c7cc64-2d81-4ece-8e97-66d41c3e1b96"
      },
      "source": [
        "accu = [0]*7\n",
        "for i in range(7):\n",
        "  accu[i] = (predi[i]/classes[i])*100\n",
        "print(accu)"
      ],
      "execution_count": null,
      "outputs": [
        {
          "output_type": "stream",
          "text": [
            "[6.976744186046512, 8.823529411764707, 0.0, 0.0, 72.66666666666667, 0.0, 0.0]\n"
          ],
          "name": "stdout"
        }
      ]
    },
    {
      "cell_type": "code",
      "metadata": {
        "id": "6TODmOsLMz7o",
        "colab": {
          "base_uri": "https://localhost:8080/",
          "height": 34
        },
        "outputId": "df37cb74-48c0-4618-a20a-8266dd76779c"
      },
      "source": [
        "pred = np.argmax(pred, axis=1) ## shape = (batch_size, 35)\n",
        "pred.shape"
      ],
      "execution_count": null,
      "outputs": [
        {
          "output_type": "execute_result",
          "data": {
            "text/plain": [
              "(478,)"
            ]
          },
          "metadata": {
            "tags": []
          },
          "execution_count": 135
        }
      ]
    },
    {
      "cell_type": "markdown",
      "metadata": {
        "id": "DYdc2H-t8iUZ"
      },
      "source": [
        "## Sequence Classifier"
      ]
    },
    {
      "cell_type": "code",
      "metadata": {
        "id": "tALS10AR4eaT"
      },
      "source": [
        "from keras import backend as K\n",
        "from keras.models import Sequential, Model, load_model\n",
        "from keras.layers import Input, Dense, LSTM, CuDNNLSTM, Embedding, Bidirectional, Conv1D, MaxPooling1D, Flatten, concatenate, Dropout, Average, Activation, Lambda, TimeDistributed\n",
        "from keras.callbacks import ModelCheckpoint, TensorBoard, Callback\n",
        "from keras.optimizers import Adam"
      ],
      "execution_count": null,
      "outputs": []
    },
    {
      "cell_type": "code",
      "metadata": {
        "id": "txRNvnIfN3cQ"
      },
      "source": [
        "weights = {0:56, 1:158, 2:214 , 3:317 , 4:258 , 5:39 , 6:985 , 7:773}"
      ],
      "execution_count": null,
      "outputs": []
    },
    {
      "cell_type": "code",
      "metadata": {
        "id": "-KJJZFu4SJ7s"
      },
      "source": [
        "def weightedLoss(originalLossFunc, weightsList):\n",
        "\n",
        "    def lossFunc(true, pred):\n",
        "\n",
        "        axis = -1 #if channels last \n",
        "        #axis=  1 #if channels first\n",
        "\n",
        "\n",
        "        #argmax returns the index of the element with the greatest value\n",
        "        #done in the class axis, it returns the class index    \n",
        "        classSelectors = K.argmax(true, axis=axis) \n",
        "            #if your loss is sparse, use only true as classSelectors\n",
        "\n",
        "        #considering weights are ordered by class, for each class\n",
        "        #true(1) if the class index is equal to the weight index   \n",
        "        classSelectors = [K.equal(i, classSelectors) for i in range(len(weightsList))]\n",
        "\n",
        "        #casting boolean to float for calculations  \n",
        "        #each tensor in the list contains 1 where ground true class is equal to its index \n",
        "        #if you sum all these, you will get a tensor full of ones. \n",
        "        classSelectors = [K.cast(x, K.floatx()) for x in classSelectors]\n",
        "\n",
        "        #for each of the selections above, multiply their respective weight\n",
        "        weights = [sel * w for sel,w in zip(classSelectors, weightsList)] \n",
        "\n",
        "        #sums all the selections\n",
        "        #result is a tensor with the respective weight for each element in predictions\n",
        "        weightMultiplier = weights[0]\n",
        "        for i in range(1, len(weights)):\n",
        "            weightMultiplier = weightMultiplier + weights[i]\n",
        "\n",
        "\n",
        "        #make sure your originalLossFunc only collapses the class axis\n",
        "        #you need the other axes intact to multiply the weights tensor\n",
        "        loss = originalLossFunc(true,pred) \n",
        "        loss = loss * weightMultiplier\n",
        "\n",
        "        return loss\n",
        "    return lossFunc"
      ],
      "execution_count": null,
      "outputs": []
    },
    {
      "cell_type": "code",
      "metadata": {
        "id": "oZOCGydhUXBL"
      },
      "source": [
        "K.clear_session()\n",
        "x =  Input(shape=(10, 2048), dtype='float32')\n",
        "lstm1 = LSTM(32, return_sequences=True)\n",
        "drop = Dropout(0.2)\n",
        "l0 = TimeDistributed(Dense(8, activation='softmax'))\n",
        "\n",
        "x1 = lstm1(x)\n",
        "x1 = drop(x1)\n",
        "x1 = l0(x1)\n",
        "model = Model(x, x1)\n",
        "  \n",
        "model.summary()\n",
        "model.compile(optimizer = Adam(learning_rate=1e-5), \n",
        "                loss= weightedLoss(keras.losses.categorical_crossentropy, weights), \n",
        "                metrics=[\"accuracy\"])\n",
        "\n"
      ],
      "execution_count": null,
      "outputs": []
    },
    {
      "cell_type": "code",
      "metadata": {
        "id": "iNf50kYW5QlC",
        "colab": {
          "base_uri": "https://localhost:8080/",
          "height": 320
        },
        "outputId": "5868c41b-e2b1-4401-db8e-861356bf440c"
      },
      "source": [
        "model.fit(X_train, y_train, epochs = 500\n",
        "          , verbose = 1, validation_split = 0.2, class_weight = weights)"
      ],
      "execution_count": null,
      "outputs": [
        {
          "output_type": "error",
          "ename": "ValueError",
          "evalue": "ignored",
          "traceback": [
            "\u001b[0;31m---------------------------------------------------------------------------\u001b[0m",
            "\u001b[0;31mValueError\u001b[0m                                Traceback (most recent call last)",
            "\u001b[0;32m<ipython-input-41-e37d022ff945>\u001b[0m in \u001b[0;36m<module>\u001b[0;34m()\u001b[0m\n\u001b[1;32m      1\u001b[0m model.fit(X_train, y_train, epochs = 500\n\u001b[0;32m----> 2\u001b[0;31m           , verbose = 1, validation_split = 0.2, class_weight = weights)\n\u001b[0m",
            "\u001b[0;32m/usr/local/lib/python3.6/dist-packages/keras/engine/training.py\u001b[0m in \u001b[0;36mfit\u001b[0;34m(self, x, y, batch_size, epochs, verbose, callbacks, validation_split, validation_data, shuffle, class_weight, sample_weight, initial_epoch, steps_per_epoch, validation_steps, validation_freq, max_queue_size, workers, use_multiprocessing, **kwargs)\u001b[0m\n\u001b[1;32m   1152\u001b[0m             \u001b[0msample_weight\u001b[0m\u001b[0;34m=\u001b[0m\u001b[0msample_weight\u001b[0m\u001b[0;34m,\u001b[0m\u001b[0;34m\u001b[0m\u001b[0;34m\u001b[0m\u001b[0m\n\u001b[1;32m   1153\u001b[0m             \u001b[0mclass_weight\u001b[0m\u001b[0;34m=\u001b[0m\u001b[0mclass_weight\u001b[0m\u001b[0;34m,\u001b[0m\u001b[0;34m\u001b[0m\u001b[0;34m\u001b[0m\u001b[0m\n\u001b[0;32m-> 1154\u001b[0;31m             batch_size=batch_size)\n\u001b[0m\u001b[1;32m   1155\u001b[0m \u001b[0;34m\u001b[0m\u001b[0m\n\u001b[1;32m   1156\u001b[0m         \u001b[0;31m# Prepare validation data.\u001b[0m\u001b[0;34m\u001b[0m\u001b[0;34m\u001b[0m\u001b[0;34m\u001b[0m\u001b[0m\n",
            "\u001b[0;32m/usr/local/lib/python3.6/dist-packages/keras/engine/training.py\u001b[0m in \u001b[0;36m_standardize_user_data\u001b[0;34m(self, x, y, sample_weight, class_weight, check_array_lengths, batch_size)\u001b[0m\n\u001b[1;32m    631\u001b[0m                 \u001b[0;32mfor\u001b[0m \u001b[0;34m(\u001b[0m\u001b[0mref\u001b[0m\u001b[0;34m,\u001b[0m \u001b[0msw\u001b[0m\u001b[0;34m,\u001b[0m \u001b[0mcw\u001b[0m\u001b[0;34m,\u001b[0m \u001b[0mmode\u001b[0m\u001b[0;34m)\u001b[0m \u001b[0;32min\u001b[0m\u001b[0;34m\u001b[0m\u001b[0;34m\u001b[0m\u001b[0m\n\u001b[1;32m    632\u001b[0m                 zip(y, sample_weights, class_weights,\n\u001b[0;32m--> 633\u001b[0;31m                     feed_sample_weight_modes)\n\u001b[0m\u001b[1;32m    634\u001b[0m             ]\n\u001b[1;32m    635\u001b[0m             \u001b[0;31m# Check that all arrays have the same length.\u001b[0m\u001b[0;34m\u001b[0m\u001b[0;34m\u001b[0m\u001b[0;34m\u001b[0m\u001b[0m\n",
            "\u001b[0;32m/usr/local/lib/python3.6/dist-packages/keras/engine/training.py\u001b[0m in \u001b[0;36m<listcomp>\u001b[0;34m(.0)\u001b[0m\n\u001b[1;32m    629\u001b[0m             sample_weights = [\n\u001b[1;32m    630\u001b[0m                 \u001b[0mtraining_utils\u001b[0m\u001b[0;34m.\u001b[0m\u001b[0mstandardize_weights\u001b[0m\u001b[0;34m(\u001b[0m\u001b[0mref\u001b[0m\u001b[0;34m,\u001b[0m \u001b[0msw\u001b[0m\u001b[0;34m,\u001b[0m \u001b[0mcw\u001b[0m\u001b[0;34m,\u001b[0m \u001b[0mmode\u001b[0m\u001b[0;34m)\u001b[0m\u001b[0;34m\u001b[0m\u001b[0;34m\u001b[0m\u001b[0m\n\u001b[0;32m--> 631\u001b[0;31m                 \u001b[0;32mfor\u001b[0m \u001b[0;34m(\u001b[0m\u001b[0mref\u001b[0m\u001b[0;34m,\u001b[0m \u001b[0msw\u001b[0m\u001b[0;34m,\u001b[0m \u001b[0mcw\u001b[0m\u001b[0;34m,\u001b[0m \u001b[0mmode\u001b[0m\u001b[0;34m)\u001b[0m \u001b[0;32min\u001b[0m\u001b[0;34m\u001b[0m\u001b[0;34m\u001b[0m\u001b[0m\n\u001b[0m\u001b[1;32m    632\u001b[0m                 zip(y, sample_weights, class_weights,\n\u001b[1;32m    633\u001b[0m                     feed_sample_weight_modes)\n",
            "\u001b[0;32m/usr/local/lib/python3.6/dist-packages/keras/engine/training_utils.py\u001b[0m in \u001b[0;36mstandardize_weights\u001b[0;34m(y, sample_weight, class_weight, sample_weight_mode)\u001b[0m\n\u001b[1;32m    492\u001b[0m     \u001b[0;32mif\u001b[0m \u001b[0misinstance\u001b[0m\u001b[0;34m(\u001b[0m\u001b[0mclass_weight\u001b[0m\u001b[0;34m,\u001b[0m \u001b[0mdict\u001b[0m\u001b[0;34m)\u001b[0m\u001b[0;34m:\u001b[0m\u001b[0;34m\u001b[0m\u001b[0;34m\u001b[0m\u001b[0m\n\u001b[1;32m    493\u001b[0m         \u001b[0;32mif\u001b[0m \u001b[0mlen\u001b[0m\u001b[0;34m(\u001b[0m\u001b[0my\u001b[0m\u001b[0;34m.\u001b[0m\u001b[0mshape\u001b[0m\u001b[0;34m)\u001b[0m \u001b[0;34m>\u001b[0m \u001b[0;36m2\u001b[0m\u001b[0;34m:\u001b[0m\u001b[0;34m\u001b[0m\u001b[0;34m\u001b[0m\u001b[0m\n\u001b[0;32m--> 494\u001b[0;31m             raise ValueError('`class_weight` not supported for '\n\u001b[0m\u001b[1;32m    495\u001b[0m                              '3+ dimensional targets.')\n\u001b[1;32m    496\u001b[0m         \u001b[0;32mif\u001b[0m \u001b[0mlen\u001b[0m\u001b[0;34m(\u001b[0m\u001b[0my\u001b[0m\u001b[0;34m.\u001b[0m\u001b[0mshape\u001b[0m\u001b[0;34m)\u001b[0m \u001b[0;34m==\u001b[0m \u001b[0;36m2\u001b[0m\u001b[0;34m:\u001b[0m\u001b[0;34m\u001b[0m\u001b[0;34m\u001b[0m\u001b[0m\n",
            "\u001b[0;31mValueError\u001b[0m: `class_weight` not supported for 3+ dimensional targets."
          ]
        }
      ]
    },
    {
      "cell_type": "code",
      "metadata": {
        "id": "Omk4WcJQ5R3j",
        "colab": {
          "base_uri": "https://localhost:8080/",
          "height": 34
        },
        "outputId": "68382066-9f38-4c83-9686-5ad5847fa344"
      },
      "source": [
        "pred = model.predict(X_test) ## shape = (batch_size, 35, 8)\n",
        "pred = np.argmax(pred, axis=2) ## shape = (batch_size, 35)\n",
        "pred.shape"
      ],
      "execution_count": null,
      "outputs": [
        {
          "output_type": "execute_result",
          "data": {
            "text/plain": [
              "(30, 5)"
            ]
          },
          "metadata": {
            "tags": []
          },
          "execution_count": 69
        }
      ]
    },
    {
      "cell_type": "code",
      "metadata": {
        "id": "cGzUqmYXHUUN",
        "colab": {
          "base_uri": "https://localhost:8080/",
          "height": 34
        },
        "outputId": "1c4806eb-8214-4d5f-ad7e-64b7e3beab5c"
      },
      "source": [
        "score, acc = model.evaluate(X_test, y_test)"
      ],
      "execution_count": null,
      "outputs": [
        {
          "output_type": "stream",
          "text": [
            "\r30/30 [==============================] - 0s 194us/step\n"
          ],
          "name": "stdout"
        }
      ]
    },
    {
      "cell_type": "code",
      "metadata": {
        "id": "16ioR027HnJg",
        "colab": {
          "base_uri": "https://localhost:8080/",
          "height": 34
        },
        "outputId": "490e03be-1de7-4bdd-85c9-4de381462a50"
      },
      "source": [
        "print(score)"
      ],
      "execution_count": null,
      "outputs": [
        {
          "output_type": "stream",
          "text": [
            "1.3741798400878906\n"
          ],
          "name": "stdout"
        }
      ]
    },
    {
      "cell_type": "code",
      "metadata": {
        "id": "eTtrNifyYSjw",
        "colab": {
          "base_uri": "https://localhost:8080/",
          "height": 178
        },
        "outputId": "8cc105ed-1540-4e18-e447-72b13aa239ce"
      },
      "source": [
        "i, j = 10, 10\n",
        "pred[i,j], Y_test[i,j]"
      ],
      "execution_count": null,
      "outputs": [
        {
          "output_type": "error",
          "ename": "IndexError",
          "evalue": "ignored",
          "traceback": [
            "\u001b[0;31m---------------------------------------------------------------------------\u001b[0m",
            "\u001b[0;31mIndexError\u001b[0m                                Traceback (most recent call last)",
            "\u001b[0;32m<ipython-input-49-981939ae2816>\u001b[0m in \u001b[0;36m<module>\u001b[0;34m()\u001b[0m\n\u001b[1;32m      1\u001b[0m \u001b[0mi\u001b[0m\u001b[0;34m,\u001b[0m \u001b[0mj\u001b[0m \u001b[0;34m=\u001b[0m \u001b[0;36m10\u001b[0m\u001b[0;34m,\u001b[0m \u001b[0;36m10\u001b[0m\u001b[0;34m\u001b[0m\u001b[0;34m\u001b[0m\u001b[0m\n\u001b[0;32m----> 2\u001b[0;31m \u001b[0mpred\u001b[0m\u001b[0;34m[\u001b[0m\u001b[0mi\u001b[0m\u001b[0;34m,\u001b[0m\u001b[0mj\u001b[0m\u001b[0;34m]\u001b[0m\u001b[0;34m,\u001b[0m \u001b[0mY_test\u001b[0m\u001b[0;34m[\u001b[0m\u001b[0mi\u001b[0m\u001b[0;34m,\u001b[0m\u001b[0mj\u001b[0m\u001b[0;34m]\u001b[0m\u001b[0;34m\u001b[0m\u001b[0;34m\u001b[0m\u001b[0m\n\u001b[0m",
            "\u001b[0;31mIndexError\u001b[0m: index 10 is out of bounds for axis 1 with size 10"
          ]
        }
      ]
    },
    {
      "cell_type": "code",
      "metadata": {
        "id": "IliMMrx0YdFh",
        "colab": {
          "base_uri": "https://localhost:8080/",
          "height": 34
        },
        "outputId": "5aca76ea-eea4-43e0-870f-cffbbf80cc49"
      },
      "source": [
        "np.sum((pred==Y_test)*1)"
      ],
      "execution_count": null,
      "outputs": [
        {
          "output_type": "execute_result",
          "data": {
            "text/plain": [
              "86"
            ]
          },
          "metadata": {
            "tags": []
          },
          "execution_count": 72
        }
      ]
    },
    {
      "cell_type": "code",
      "metadata": {
        "id": "k0DopIyUYt36",
        "colab": {
          "base_uri": "https://localhost:8080/",
          "height": 34
        },
        "outputId": "0c1a3900-0732-4e40-d5a4-6664bcca208c"
      },
      "source": [
        "pred[2]"
      ],
      "execution_count": null,
      "outputs": [
        {
          "output_type": "execute_result",
          "data": {
            "text/plain": [
              "array([5, 5, 5, 5, 5])"
            ]
          },
          "metadata": {
            "tags": []
          },
          "execution_count": 82
        }
      ]
    },
    {
      "cell_type": "code",
      "metadata": {
        "id": "pdbJAUOQYyOa",
        "colab": {
          "base_uri": "https://localhost:8080/",
          "height": 34
        },
        "outputId": "eb5185e2-7241-4295-82f5-861b65829b93"
      },
      "source": [
        "86/(30*5)"
      ],
      "execution_count": null,
      "outputs": [
        {
          "output_type": "execute_result",
          "data": {
            "text/plain": [
              "0.5733333333333334"
            ]
          },
          "metadata": {
            "tags": []
          },
          "execution_count": 73
        }
      ]
    }
  ]
}