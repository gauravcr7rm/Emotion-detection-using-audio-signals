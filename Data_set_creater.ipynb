{
  "nbformat": 4,
  "nbformat_minor": 0,
  "metadata": {
    "colab": {
      "name": "Data set creater.ipynb",
      "provenance": [],
      "mount_file_id": "1mb1D3uKg1hLpGMt2Qy1TT8Bu1iW9HiXx",
      "authorship_tag": "ABX9TyNDU2YmbvSZfK8tLdfnwIk6",
      "include_colab_link": true
    },
    "kernelspec": {
      "name": "python3",
      "display_name": "Python 3"
    },
    "widgets": {
      "application/vnd.jupyter.widget-state+json": {
        "b49d630a1ca149e88552c5802d55b26c": {
          "model_module": "@jupyter-widgets/controls",
          "model_name": "HBoxModel",
          "state": {
            "_view_name": "HBoxView",
            "_dom_classes": [],
            "_model_name": "HBoxModel",
            "_view_module": "@jupyter-widgets/controls",
            "_model_module_version": "1.5.0",
            "_view_count": null,
            "_view_module_version": "1.5.0",
            "box_style": "",
            "layout": "IPY_MODEL_a0d6db2df7c14272839147874a69a872",
            "_model_module": "@jupyter-widgets/controls",
            "children": [
              "IPY_MODEL_db1d988251c94c6184ca970216b35edc",
              "IPY_MODEL_dbcfd09410514f16af16111c51484df2"
            ]
          }
        },
        "a0d6db2df7c14272839147874a69a872": {
          "model_module": "@jupyter-widgets/base",
          "model_name": "LayoutModel",
          "state": {
            "_view_name": "LayoutView",
            "grid_template_rows": null,
            "right": null,
            "justify_content": null,
            "_view_module": "@jupyter-widgets/base",
            "overflow": null,
            "_model_module_version": "1.2.0",
            "_view_count": null,
            "flex_flow": null,
            "width": null,
            "min_width": null,
            "border": null,
            "align_items": null,
            "bottom": null,
            "_model_module": "@jupyter-widgets/base",
            "top": null,
            "grid_column": null,
            "overflow_y": null,
            "overflow_x": null,
            "grid_auto_flow": null,
            "grid_area": null,
            "grid_template_columns": null,
            "flex": null,
            "_model_name": "LayoutModel",
            "justify_items": null,
            "grid_row": null,
            "max_height": null,
            "align_content": null,
            "visibility": null,
            "align_self": null,
            "height": null,
            "min_height": null,
            "padding": null,
            "grid_auto_rows": null,
            "grid_gap": null,
            "max_width": null,
            "order": null,
            "_view_module_version": "1.2.0",
            "grid_template_areas": null,
            "object_position": null,
            "object_fit": null,
            "grid_auto_columns": null,
            "margin": null,
            "display": null,
            "left": null
          }
        },
        "db1d988251c94c6184ca970216b35edc": {
          "model_module": "@jupyter-widgets/controls",
          "model_name": "FloatProgressModel",
          "state": {
            "_view_name": "ProgressView",
            "style": "IPY_MODEL_738086d8f7dc4a1997debdcaafb71f13",
            "_dom_classes": [],
            "description": "100%",
            "_model_name": "FloatProgressModel",
            "bar_style": "success",
            "max": 280,
            "_view_module": "@jupyter-widgets/controls",
            "_model_module_version": "1.5.0",
            "value": 280,
            "_view_count": null,
            "_view_module_version": "1.5.0",
            "orientation": "horizontal",
            "min": 0,
            "description_tooltip": null,
            "_model_module": "@jupyter-widgets/controls",
            "layout": "IPY_MODEL_2681fe5036e4420f9a4bddf408ad1809"
          }
        },
        "dbcfd09410514f16af16111c51484df2": {
          "model_module": "@jupyter-widgets/controls",
          "model_name": "HTMLModel",
          "state": {
            "_view_name": "HTMLView",
            "style": "IPY_MODEL_c6cb2b184d2c483f81a8d48d8daadbf2",
            "_dom_classes": [],
            "description": "",
            "_model_name": "HTMLModel",
            "placeholder": "​",
            "_view_module": "@jupyter-widgets/controls",
            "_model_module_version": "1.5.0",
            "value": " 280/280 [00:24&lt;00:00, 11.57it/s]",
            "_view_count": null,
            "_view_module_version": "1.5.0",
            "description_tooltip": null,
            "_model_module": "@jupyter-widgets/controls",
            "layout": "IPY_MODEL_314990a207264b61beab87d71e30dc09"
          }
        },
        "738086d8f7dc4a1997debdcaafb71f13": {
          "model_module": "@jupyter-widgets/controls",
          "model_name": "ProgressStyleModel",
          "state": {
            "_view_name": "StyleView",
            "_model_name": "ProgressStyleModel",
            "description_width": "initial",
            "_view_module": "@jupyter-widgets/base",
            "_model_module_version": "1.5.0",
            "_view_count": null,
            "_view_module_version": "1.2.0",
            "bar_color": null,
            "_model_module": "@jupyter-widgets/controls"
          }
        },
        "2681fe5036e4420f9a4bddf408ad1809": {
          "model_module": "@jupyter-widgets/base",
          "model_name": "LayoutModel",
          "state": {
            "_view_name": "LayoutView",
            "grid_template_rows": null,
            "right": null,
            "justify_content": null,
            "_view_module": "@jupyter-widgets/base",
            "overflow": null,
            "_model_module_version": "1.2.0",
            "_view_count": null,
            "flex_flow": null,
            "width": null,
            "min_width": null,
            "border": null,
            "align_items": null,
            "bottom": null,
            "_model_module": "@jupyter-widgets/base",
            "top": null,
            "grid_column": null,
            "overflow_y": null,
            "overflow_x": null,
            "grid_auto_flow": null,
            "grid_area": null,
            "grid_template_columns": null,
            "flex": null,
            "_model_name": "LayoutModel",
            "justify_items": null,
            "grid_row": null,
            "max_height": null,
            "align_content": null,
            "visibility": null,
            "align_self": null,
            "height": null,
            "min_height": null,
            "padding": null,
            "grid_auto_rows": null,
            "grid_gap": null,
            "max_width": null,
            "order": null,
            "_view_module_version": "1.2.0",
            "grid_template_areas": null,
            "object_position": null,
            "object_fit": null,
            "grid_auto_columns": null,
            "margin": null,
            "display": null,
            "left": null
          }
        },
        "c6cb2b184d2c483f81a8d48d8daadbf2": {
          "model_module": "@jupyter-widgets/controls",
          "model_name": "DescriptionStyleModel",
          "state": {
            "_view_name": "StyleView",
            "_model_name": "DescriptionStyleModel",
            "description_width": "",
            "_view_module": "@jupyter-widgets/base",
            "_model_module_version": "1.5.0",
            "_view_count": null,
            "_view_module_version": "1.2.0",
            "_model_module": "@jupyter-widgets/controls"
          }
        },
        "314990a207264b61beab87d71e30dc09": {
          "model_module": "@jupyter-widgets/base",
          "model_name": "LayoutModel",
          "state": {
            "_view_name": "LayoutView",
            "grid_template_rows": null,
            "right": null,
            "justify_content": null,
            "_view_module": "@jupyter-widgets/base",
            "overflow": null,
            "_model_module_version": "1.2.0",
            "_view_count": null,
            "flex_flow": null,
            "width": null,
            "min_width": null,
            "border": null,
            "align_items": null,
            "bottom": null,
            "_model_module": "@jupyter-widgets/base",
            "top": null,
            "grid_column": null,
            "overflow_y": null,
            "overflow_x": null,
            "grid_auto_flow": null,
            "grid_area": null,
            "grid_template_columns": null,
            "flex": null,
            "_model_name": "LayoutModel",
            "justify_items": null,
            "grid_row": null,
            "max_height": null,
            "align_content": null,
            "visibility": null,
            "align_self": null,
            "height": null,
            "min_height": null,
            "padding": null,
            "grid_auto_rows": null,
            "grid_gap": null,
            "max_width": null,
            "order": null,
            "_view_module_version": "1.2.0",
            "grid_template_areas": null,
            "object_position": null,
            "object_fit": null,
            "grid_auto_columns": null,
            "margin": null,
            "display": null,
            "left": null
          }
        }
      }
    }
  },
  "cells": [
    {
      "cell_type": "markdown",
      "metadata": {
        "id": "view-in-github",
        "colab_type": "text"
      },
      "source": [
        "<a href=\"https://colab.research.google.com/github/gauravcr7rm/Emotion-detection-using-audio-signals/blob/main/Data_set_creater.ipynb\" target=\"_parent\"><img src=\"https://colab.research.google.com/assets/colab-badge.svg\" alt=\"Open In Colab\"/></a>"
      ]
    },
    {
      "cell_type": "code",
      "metadata": {
        "id": "eKesHZYx2jUZ",
        "colab": {
          "base_uri": "https://localhost:8080/",
          "height": 269
        },
        "outputId": "0d6395e9-7aeb-47a7-8650-69ea4bee77a1"
      },
      "source": [
        "import os\n",
        "os.chdir('/content/drive/My Drive/spectroimage_folder')\n",
        "!ls"
      ],
      "execution_count": null,
      "outputs": [
        {
          "output_type": "stream",
          "text": [
            " data_creator_2.ipynb   x_test_5.pkl\t    y_test_4.pkl\n",
            " data_creator.ipynb     x_test_new.pkl\t    y_test_5.pkl\n",
            " Disgust\t        x_test.pkl\t    y_test_new.pkl\n",
            " Fear\t\t        x_test_three.pkl    y_test.pkl\n",
            "'image folder'\t        x_test_two.pkl\t    y_test_three.pkl\n",
            " Joy\t\t        x_train_2.pkl\t    y_test_two.pkl\n",
            " Neutral\t        x_train_3.pkl\t    y_train_2.pkl\n",
            " pickle_folder\t        x_train_4.pkl\t    y_train_3.pkl\n",
            " Sadness\t        x_train_5.pkl\t    y_train_4.pkl\n",
            " Surprise\t        x_train_new.pkl     y_train_5.pkl\n",
            " test_sent_emo.csv      x_train.pkl\t    y_train_new.pkl\n",
            "'Untitled Folder'       x_train_three.pkl   y_train.pkl\n",
            " x_test_2.pkl\t        x_train_two.pkl     y_train_three.pkl\n",
            " x_test_3.pkl\t        y_test_2.pkl\t    y_train_two.pkl\n",
            " x_test_4.pkl\t        y_test_3.pkl\n"
          ],
          "name": "stdout"
        }
      ]
    },
    {
      "cell_type": "code",
      "metadata": {
        "id": "9mGuOm9w2_o9",
        "colab": {
          "base_uri": "https://localhost:8080/",
          "height": 106
        },
        "outputId": "8181e511-3ef3-4390-a3ba-7e3f38c59033"
      },
      "source": [
        "import pandas as pd\n",
        "import numpy as np\n",
        "df = pd.read_csv('test_sent_emo.csv')\n",
        "df.head(2)"
      ],
      "execution_count": null,
      "outputs": [
        {
          "output_type": "execute_result",
          "data": {
            "text/html": [
              "<div>\n",
              "<style scoped>\n",
              "    .dataframe tbody tr th:only-of-type {\n",
              "        vertical-align: middle;\n",
              "    }\n",
              "\n",
              "    .dataframe tbody tr th {\n",
              "        vertical-align: top;\n",
              "    }\n",
              "\n",
              "    .dataframe thead th {\n",
              "        text-align: right;\n",
              "    }\n",
              "</style>\n",
              "<table border=\"1\" class=\"dataframe\">\n",
              "  <thead>\n",
              "    <tr style=\"text-align: right;\">\n",
              "      <th></th>\n",
              "      <th>Sr No.</th>\n",
              "      <th>Utterance</th>\n",
              "      <th>Speaker</th>\n",
              "      <th>Emotion</th>\n",
              "      <th>Sentiment</th>\n",
              "      <th>Dialogue_ID</th>\n",
              "      <th>Utterance_ID</th>\n",
              "      <th>Season</th>\n",
              "      <th>Episode</th>\n",
              "      <th>StartTime</th>\n",
              "      <th>EndTime</th>\n",
              "    </tr>\n",
              "  </thead>\n",
              "  <tbody>\n",
              "    <tr>\n",
              "      <th>0</th>\n",
              "      <td>1</td>\n",
              "      <td>Why do all youre coffee mugs have numbers on ...</td>\n",
              "      <td>Mark</td>\n",
              "      <td>surprise</td>\n",
              "      <td>positive</td>\n",
              "      <td>0</td>\n",
              "      <td>0</td>\n",
              "      <td>3</td>\n",
              "      <td>19</td>\n",
              "      <td>00:14:38,127</td>\n",
              "      <td>00:14:40,378</td>\n",
              "    </tr>\n",
              "    <tr>\n",
              "      <th>1</th>\n",
              "      <td>2</td>\n",
              "      <td>Oh. Thats so Monica can keep track. That way ...</td>\n",
              "      <td>Rachel</td>\n",
              "      <td>anger</td>\n",
              "      <td>negative</td>\n",
              "      <td>0</td>\n",
              "      <td>1</td>\n",
              "      <td>3</td>\n",
              "      <td>19</td>\n",
              "      <td>00:14:40,629</td>\n",
              "      <td>00:14:47,385</td>\n",
              "    </tr>\n",
              "  </tbody>\n",
              "</table>\n",
              "</div>"
            ],
            "text/plain": [
              "   Sr No.  ...       EndTime\n",
              "0       1  ...  00:14:40,378\n",
              "1       2  ...  00:14:47,385\n",
              "\n",
              "[2 rows x 11 columns]"
            ]
          },
          "metadata": {
            "tags": []
          },
          "execution_count": 2
        }
      ]
    },
    {
      "cell_type": "code",
      "metadata": {
        "id": "rTjACxgqgafJ"
      },
      "source": [
        "def listToString(s):  \n",
        "    str1 = \"\"   \n",
        "    for ele in s:  \n",
        "        str1 += ele   \n",
        "    return str1"
      ],
      "execution_count": null,
      "outputs": []
    },
    {
      "cell_type": "code",
      "metadata": {
        "id": "GZZSXNkJghV-"
      },
      "source": [
        "def get_diaUtterance(filename):\n",
        "  l = filename.split('.')\n",
        "  f = str(l[0])\n",
        "  dia_no = int(f.split('dia')[1].split('_utt')[0])\n",
        "  utt_no = int(f.split('dia')[1].split('_utt')[1].split('_')[0])\n",
        "  return dia_no, utt_no"
      ],
      "execution_count": null,
      "outputs": []
    },
    {
      "cell_type": "code",
      "metadata": {
        "id": "ek8qlm2IgkTB"
      },
      "source": [
        "def get_utterance(dia):\n",
        "  a = []\n",
        "  files = os.listdir('pickle_folder')\n",
        "  for i in range(35):\n",
        "    f = dia  + 'utt' + str(i)+'.pkl'\n",
        "    #print(f)\n",
        "    if f in files:\n",
        "      a.append(f)\n",
        "    else:\n",
        "      break\n",
        "  a.sort()\n",
        "  return a"
      ],
      "execution_count": null,
      "outputs": []
    },
    {
      "cell_type": "code",
      "metadata": {
        "id": "SsyP94EygqPf"
      },
      "source": [
        "emotion_dict = {'joy':0, 'anger':1, 'sadness':2, 'surprise':3, 'neutral':4, 'fear':5, 'disgust':6}"
      ],
      "execution_count": null,
      "outputs": []
    },
    {
      "cell_type": "code",
      "metadata": {
        "id": "iH5qY5IKgtkD",
        "colab": {
          "base_uri": "https://localhost:8080/",
          "height": 66,
          "referenced_widgets": [
            "b49d630a1ca149e88552c5802d55b26c",
            "a0d6db2df7c14272839147874a69a872",
            "db1d988251c94c6184ca970216b35edc",
            "dbcfd09410514f16af16111c51484df2",
            "738086d8f7dc4a1997debdcaafb71f13",
            "2681fe5036e4420f9a4bddf408ad1809",
            "c6cb2b184d2c483f81a8d48d8daadbf2",
            "314990a207264b61beab87d71e30dc09"
          ]
        },
        "outputId": "781ee3d2-c07d-4c0e-e4e5-53f08b479bf3"
      },
      "source": [
        "from tqdm.notebook import tqdm\n",
        "x_train, y_train, x_test, y_test = [], [], [], []\n",
        "for j in tqdm(range(280), total=280):\n",
        "  utterances = get_utterance(f'dia{j}_')\n",
        "  for i in range(len(utterances)):\n",
        "    dia_no, utt_no = get_diaUtterance(utterances[i])\n",
        "    emotion = df[(df.Dialogue_ID == dia_no) & (df.Utterance_ID == utt_no)][['Emotion']].values[0][0]\n",
        "    y = [emotion_dict[emotion]]\n",
        "    #count_list[emotion_dict[emotion]] = count_list[emotion_dict[emotion]] + 1\n",
        "    #utt = pd.read_pickle(os.path.join('pickle_folder', utterances[i]))\n",
        "    x = []\n",
        "    for k in range(8):\n",
        "      if i-k >= 0:\n",
        "        utt = pd.read_pickle(os.path.join('pickle_folder', utterances[i-k]))\n",
        "        x.append(utt[0])\n",
        "      else:\n",
        "        x.append([0]*2048)\n",
        "\n",
        "\n",
        "\n",
        "    \"\"\"if i == 0:\n",
        "      x = [[0]*2048,[0]*2048,utt[0]]\n",
        "    elif i==1:\n",
        "      a =  pd.read_pickle(os.path.join('pickle_folder', utterances[0]))\n",
        "      b = pd.read_pickle(os.path.join('pickle_folder', utterances[1]))\n",
        "      x = [[0]*2048,a[0],b[0]]\n",
        "    else:\n",
        "      utt1 = pd.read_pickle(os.path.join('pickle_folder', utterances[i-1]))\n",
        "      utt2 = pd.read_pickle(os.path.join('pickle_folder', utterances[i-2]))\n",
        "      x = [utt2[0],utt1[0],utt[0]]\"\"\"\n",
        "    if j<250:\n",
        "      x_train.append(np.array(x))\n",
        "      y_train.append(np.array(y))\n",
        "    else:\n",
        "      x_test.append(np.array(x))\n",
        "      y_test.append(np.array(y))"
      ],
      "execution_count": null,
      "outputs": [
        {
          "output_type": "display_data",
          "data": {
            "application/vnd.jupyter.widget-view+json": {
              "model_id": "b49d630a1ca149e88552c5802d55b26c",
              "version_minor": 0,
              "version_major": 2
            },
            "text/plain": [
              "HBox(children=(FloatProgress(value=0.0, max=280.0), HTML(value='')))"
            ]
          },
          "metadata": {
            "tags": []
          }
        },
        {
          "output_type": "stream",
          "text": [
            "\n"
          ],
          "name": "stdout"
        }
      ]
    },
    {
      "cell_type": "code",
      "metadata": {
        "id": "AR7UexfPpwdA"
      },
      "source": [
        "x_train_eight = np.array(x_train)\n",
        "x_test_eight = np.array(x_test)\n",
        "y_train_eight = np.array(y_train)\n",
        "y_test_eight = np.array(y_test)"
      ],
      "execution_count": null,
      "outputs": []
    },
    {
      "cell_type": "code",
      "metadata": {
        "id": "Je4S22P2p_ih",
        "colab": {
          "base_uri": "https://localhost:8080/",
          "height": 34
        },
        "outputId": "43b50c43-6411-494b-9441-6e3d29126925"
      },
      "source": [
        "x_train_eight.shape"
      ],
      "execution_count": null,
      "outputs": [
        {
          "output_type": "execute_result",
          "data": {
            "text/plain": [
              "(2311, 8, 2048)"
            ]
          },
          "metadata": {
            "tags": []
          },
          "execution_count": 13
        }
      ]
    },
    {
      "cell_type": "code",
      "metadata": {
        "id": "zSFffO2dtD18"
      },
      "source": [
        "from pickle import dump\n",
        "dump(x_train_eight, open('x_train_eight' + '.pkl', 'wb'))\n",
        "dump(y_train_eight, open('y_train_eight' + '.pkl', 'wb'))\n",
        "dump(x_test_eight, open('x_test_eight' + '.pkl', 'wb'))\n",
        "dump(y_test_eight, open('y_test_eight' + '.pkl', 'wb'))"
      ],
      "execution_count": null,
      "outputs": []
    }
  ]
}